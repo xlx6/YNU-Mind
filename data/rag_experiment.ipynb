{
 "cells": [
  {
   "cell_type": "markdown",
   "metadata": {},
   "source": [
    "# RAG 实验设计\n",
    "本实验旨在评估不同检索方法（BM25、M3E、多路召回、融合召回、重排序）在RAG（Retrieval-Augmented Generation）系统中的表现。\n",
    "我们将比较 Recall@10, MRR 和 NDCG@5 三项指标。"
   ]
  },
  {
   "cell_type": "code",
   "execution_count": 1,
   "metadata": {},
   "outputs": [],
   "source": [
    "# 安装必要库（如未安装）\n",
    "# !pip install rank_bm25 transformers faiss-cpu datasets sklearn\n",
    "import numpy as np\n",
    "from sklearn.metrics import ndcg_score\n",
    "from typing import List\n",
    "import random\n",
    "\n",
    "# 示例数据生成\n",
    "queries = [f\"query_{i}\" for i in range(100)]\n",
    "corpus = [f\"doc_{j}\" for j in range(1000)]\n",
    "ground_truth = {q: random.sample(corpus, 1) for q in queries}"
   ]
  },
  {
   "cell_type": "markdown",
   "metadata": {},
   "source": [
    "## 定义评估函数"
   ]
  },
  {
   "cell_type": "code",
   "execution_count": 2,
   "metadata": {},
   "outputs": [],
   "source": [
    "def evaluate_ranking(predictions: List[List[str]], ground_truth: dict, k=10):\n",
    "    recall_scores, mrr_scores, ndcg_scores = [], [], []\n",
    "    for i, q in enumerate(queries):\n",
    "        preds = predictions[i][:k]\n",
    "        gt = ground_truth[q][0]\n",
    "\n",
    "        recall = 1 if gt in preds else 0\n",
    "        recall_scores.append(recall)\n",
    "\n",
    "        if gt in preds:\n",
    "            rank = preds.index(gt) + 1\n",
    "            mrr_scores.append(1 / rank)\n",
    "        else:\n",
    "            mrr_scores.append(0)\n",
    "\n",
    "        relevance = [1 if doc == gt else 0 for doc in preds]\n",
    "        ndcg_scores.append(ndcg_score([relevance], [list(range(len(relevance), 0, -1))]))\n",
    "\n",
    "    return np.mean(recall_scores), np.mean(mrr_scores), np.mean(ndcg_scores)"
   ]
  },
  {
   "cell_type": "markdown",
   "metadata": {},
   "source": [
    "## 模拟不同召回方法"
   ]
  },
  {
   "cell_type": "code",
   "execution_count": 3,
   "metadata": {},
   "outputs": [],
   "source": [
    "# 用于模拟不同方法的召回（简单随机模拟）\n",
    "def simulate_method(hit_ratio=0.7):\n",
    "    predictions = []\n",
    "    for q in queries:\n",
    "        gt = ground_truth[q][0]\n",
    "        docs = [gt] if random.random() < hit_ratio else []\n",
    "        docs += random.sample([d for d in corpus if d != gt], 20)\n",
    "        random.shuffle(docs)\n",
    "        predictions.append(docs)\n",
    "    return predictions"
   ]
  },
  {
   "cell_type": "code",
   "execution_count": 4,
   "metadata": {},
   "outputs": [
    {
     "name": "stdout",
     "output_type": "stream",
     "text": [
      "BM25: Recall@10=0.36, MRR=0.11, NDCG@5=0.16\n",
      "M3E: Recall@10=0.32, MRR=0.09, NDCG@5=0.15\n",
      "多路召回: Recall@10=0.44, MRR=0.12, NDCG@5=0.19\n",
      "融合召回: Recall@10=0.45, MRR=0.14, NDCG@5=0.21\n",
      "重排序: Recall@10=0.41, MRR=0.1, NDCG@5=0.17\n"
     ]
    }
   ],
   "source": [
    "methods = {\n",
    "    \"BM25\": 0.68,\n",
    "    \"M3E\": 0.72,\n",
    "    \"多路召回\": 0.84,\n",
    "    \"融合召回\": 0.89,\n",
    "    \"重排序\": 0.93\n",
    "}\n",
    "\n",
    "results = {}\n",
    "for method, ratio in methods.items():\n",
    "    preds = simulate_method(ratio)\n",
    "    recall, mrr, ndcg = evaluate_ranking(preds, ground_truth)\n",
    "    results[method] = (round(recall, 2), round(mrr, 2), round(ndcg, 2))\n",
    "\n",
    "for method, metrics in results.items():\n",
    "    print(f\"{method}: Recall@10={metrics[0]}, MRR={metrics[1]}, NDCG@5={metrics[2]}\")"
   ]
  }
 ],
 "metadata": {
  "kernelspec": {
   "display_name": "langchain",
   "language": "python",
   "name": "python3"
  },
  "language_info": {
   "codemirror_mode": {
    "name": "ipython",
    "version": 3
   },
   "file_extension": ".py",
   "mimetype": "text/x-python",
   "name": "python",
   "nbconvert_exporter": "python",
   "pygments_lexer": "ipython3",
   "version": "3.12.8"
  }
 },
 "nbformat": 4,
 "nbformat_minor": 5
}
