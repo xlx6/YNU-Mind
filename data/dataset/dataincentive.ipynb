{
 "cells": [
  {
   "cell_type": "code",
   "execution_count": 31,
   "id": "dbe86cc5",
   "metadata": {},
   "outputs": [
    {
     "name": "stdout",
     "output_type": "stream",
     "text": [
      "✅ 批量数据写入完成：chinese2english_augmented.jsonl\n"
     ]
    }
   ],
   "source": [
    "import pandas as pd\n",
    "import json\n",
    "\n",
    "df = pd.read_csv(\"../training_data.csv\")  # 包含 text 和 label 字段\n",
    "\n",
    "requests = []\n",
    "for i, row in df.iterrows():\n",
    "    question = row[\"text\"]\n",
    "    label = row[\"label\"]\n",
    "\n",
    "    request = {\n",
    "        \"custom_id\": f\"augment-{i}\",\n",
    "        \"method\": \"POST\",\n",
    "        \"url\": \"/v4/chat/completions\",\n",
    "        \"body\": {\n",
    "            \"model\": \"glm-4-flash\",\n",
    "            \"messages\": [\n",
    "                {\n",
    "                    \"role\": \"system\",\n",
    "                    \"content\": \"你是一个翻译专家，用于将中文翻译为英文，并返回结构化JSON格式的结果。\"\n",
    "                },\n",
    "                {\n",
    "                    \"role\": \"user\",\n",
    "                    \"content\": f\"\"\"请将以下原始问句翻译为英文，并返回如下 JSON 格式：\n",
    "{{\"text\": \"<英文翻译>\", \"label\": {label} }}\n",
    "\n",
    "注意：\n",
    "- 仅返回 JSON。\n",
    "- 不要添加任何多余解释或标点。\n",
    "- 保持标签 label 不变。\n",
    "\n",
    "原始问句：\\\"{question}\\\"\"\"\"\n",
    "                }\n",
    "            ],\n",
    "            \"temperature\": 0.1\n",
    "        }\n",
    "    }\n",
    "    requests.append(request)\n",
    "\n",
    "# 写入 JSONL 文件\n",
    "with open(\"chinese2english_augmented.jsonl\", \"w\", encoding=\"utf-8\") as f:\n",
    "    for req in requests:\n",
    "        json.dump(req, f, ensure_ascii=False)\n",
    "        f.write(\"\\n\")\n",
    "\n",
    "print(\"✅ 批量数据写入完成：chinese2english_augmented.jsonl\")\n"
   ]
  },
  {
   "cell_type": "code",
   "execution_count": null,
   "id": "bbe815fb",
   "metadata": {},
   "outputs": [
    {
     "name": "stdout",
     "output_type": "stream",
     "text": [
      "1744770491_e8d520346be249bb8dbcf15fe6b5a574\n"
     ]
    }
   ],
   "source": [
    "from zhipuai import ZhipuAI\n",
    " \n",
    "client = ZhipuAI(api_key=\"\") # 请填写您自己的APIKey\n",
    "  \n",
    "result = client.files.create(\n",
    "    file=open(\"./chinese2english_augmented.jsonl\", \"rb\"),\n",
    "    purpose=\"batch\"\n",
    ")\n",
    "print(result.id)"
   ]
  },
  {
   "cell_type": "code",
   "execution_count": null,
   "id": "8ecbace9",
   "metadata": {},
   "outputs": [
    {
     "name": "stdout",
     "output_type": "stream",
     "text": [
      "Batch(id='batch_1912332233734361088', completion_window=None, created_at=1744770508594, endpoint='/v4/chat/completions', input_file_id='1744770491_e8d520346be249bb8dbcf15fe6b5a574', object='batch', status='validating', cancelled_at=None, cancelling_at=None, completed_at=None, error_file_id=None, errors=None, expired_at=None, expires_at=None, failed_at=None, finalizing_at=None, in_progress_at=None, metadata={'description': 'chinese2english'}, output_file_id=None, request_counts=BatchRequestCounts(completed=None, failed=None, total=2865))\n"
     ]
    }
   ],
   "source": [
    "from zhipuai import ZhipuAI\n",
    " \n",
    "\n",
    "create = client.batches.create(\n",
    "    input_file_id=\"1744770491_e8d520346be249bb8dbcf15fe6b5a574\",\n",
    "    endpoint=\"/v4/chat/completions\", \n",
    "    auto_delete_input_file=True,\n",
    "    metadata={\n",
    "        \"description\": \"chinese2english\"\n",
    "    }\n",
    ")\n",
    "print(create)\n",
    "  "
   ]
  },
  {
   "cell_type": "code",
   "execution_count": null,
   "id": "1cf8214b",
   "metadata": {},
   "outputs": [
    {
     "name": "stdout",
     "output_type": "stream",
     "text": [
      "Batch(id=None, completion_window=None, created_at=None, endpoint=None, input_file_id=None, object=None, status=None, cancelled_at=None, cancelling_at=None, completed_at=None, error_file_id=None, errors=None, expired_at=None, expires_at=None, failed_at=None, finalizing_at=None, in_progress_at=None, metadata=None, output_file_id=None, request_counts=None)\n"
     ]
    }
   ],
   "source": [
    "batch_job = client.batches.retrieve(\"1744770491_e8d520346be249bb8dbcf15fe6b5a574\")\n",
    "print(batch_job)"
   ]
  },
  {
   "cell_type": "markdown",
   "id": "40e91c74",
   "metadata": {},
   "source": [
    "## 处理响应"
   ]
  },
  {
   "cell_type": "code",
   "execution_count": 37,
   "id": "69eec78e",
   "metadata": {},
   "outputs": [
    {
     "name": "stdout",
     "output_type": "stream",
     "text": [
      "✅ 成功写入 CSV：translated_dataset.csv，共 2865 条\n"
     ]
    }
   ],
   "source": [
    "import json\n",
    "import csv\n",
    "import re\n",
    "\n",
    "# 输入和输出路径\n",
    "input_path = \"chinese2english_result.jsonl\"     # 替换为实际响应文件路径\n",
    "output_path = \"translated_dataset.csv\"\n",
    "\n",
    "# 存储结果\n",
    "results = []\n",
    "\n",
    "# 提取并解析翻译内容\n",
    "def extract_text_label(content):\n",
    "    # 清除 ```json 包裹（如存在）\n",
    "    content = content.strip()\n",
    "    if content.startswith(\"```json\"):\n",
    "        content = re.sub(r\"^```json\\s*\", \"\", content)\n",
    "        content = re.sub(r\"\\s*```$\", \"\", content)\n",
    "\n",
    "    # 转换为 JSON 并返回 text 和 label\n",
    "    try:\n",
    "        data = json.loads(content)\n",
    "        return data[\"text\"], data[\"label\"]\n",
    "    except Exception as e:\n",
    "        print(f\"❌ 无法解析内容：{content}，错误：{e}\")\n",
    "        return None, None\n",
    "\n",
    "# 读取 JSONL\n",
    "with open(input_path, \"r\", encoding=\"utf-8\") as f:\n",
    "    for line in f:\n",
    "        try:\n",
    "            data = json.loads(line)\n",
    "            content_str = data[\"response\"][\"body\"][\"choices\"][0][\"message\"][\"content\"]\n",
    "            text, label = extract_text_label(content_str)\n",
    "            if text is not None and label is not None:\n",
    "                results.append({\"text\": text, \"label\": label})\n",
    "        except Exception as e:\n",
    "            print(f\"❌ 行解析失败：{e}，行内容：{line[:100]}...\")\n",
    "\n",
    "# 写入 CSV\n",
    "with open(output_path, \"w\", encoding=\"utf-8\", newline=\"\") as csvfile:\n",
    "    writer = csv.DictWriter(csvfile, fieldnames=[\"text\", \"label\"])\n",
    "    writer.writeheader()\n",
    "    writer.writerows(results)\n",
    "\n",
    "print(f\"✅ 成功写入 CSV：{output_path}，共 {len(results)} 条\")\n"
   ]
  },
  {
   "cell_type": "code",
   "execution_count": 38,
   "id": "6a62574f",
   "metadata": {},
   "outputs": [
    {
     "name": "stdout",
     "output_type": "stream",
     "text": [
      "✅ 合并完成，共 5730 条数据，已保存至 combined_training_data.csv\n"
     ]
    }
   ],
   "source": [
    "import pandas as pd\n",
    "\n",
    "# 读取中文原始数据\n",
    "df_cn = pd.read_csv(\"./training_data.csv\")  # 原始中文数据集，含 text 和 label\n",
    "\n",
    "# 读取翻译后的英文数据\n",
    "df_en = pd.read_csv(\"./translated_dataset.csv\")  # 已翻译的英文数据，格式 text,label\n",
    "\n",
    "# 合并数据\n",
    "df_all = pd.concat([df_cn, df_en], ignore_index=True)\n",
    "\n",
    "# 保存为新文件\n",
    "df_all.to_csv(\"combined_training_data.csv\", index=False, encoding=\"utf-8\")\n",
    "\n",
    "print(f\"✅ 合并完成，共 {len(df_all)} 条数据，已保存至 combined_training_data.csv\")\n"
   ]
  },
  {
   "cell_type": "markdown",
   "id": "c976e28d",
   "metadata": {},
   "source": [
    "## DataSet distribution"
   ]
  },
  {
   "cell_type": "code",
   "execution_count": 40,
   "id": "1f33ac63",
   "metadata": {},
   "outputs": [
    {
     "name": "stdout",
     "output_type": "stream",
     "text": [
      "📊 标签分布统计：\n",
      "标签 0：1894 条，占比 33.05%\n",
      "标签 1：1808 条，占比 31.55%\n",
      "标签 2：2028 条，占比 35.39%\n"
     ]
    },
    {
     "data": {
      "image/png": "[encoded data removed]",
      "text/plain": [
       "<Figure size 600x400 with 1 Axes>"
      ]
     },
     "metadata": {},
     "output_type": "display_data"
    }
   ],
   "source": [
    "import pandas as pd\n",
    "\n",
    "# 加载合并后的数据集\n",
    "df = pd.read_csv(\"combined_training_data.csv\")\n",
    "\n",
    "# 统计 label 分布\n",
    "label_counts = df[\"label\"].value_counts().sort_index()\n",
    "label_percent = df[\"label\"].value_counts(normalize=True).sort_index() * 100\n",
    "\n",
    "# 打印结果\n",
    "print(\"📊 标签分布统计：\")\n",
    "for label in label_counts.index:\n",
    "    print(f\"标签 {label}：{label_counts[label]} 条，占比 {label_percent[label]:.2f}%\")\n",
    "\n",
    "# 如果需要，也可以可视化\n",
    "import matplotlib.pyplot as plt\n",
    "\n",
    "plt.figure(figsize=(6, 4))\n",
    "label_counts.plot(kind=\"bar\", color=\"skyblue\")\n",
    "plt.title(\"Label Distribution\")\n",
    "plt.xlabel(\"Label\")\n",
    "plt.ylabel(\"Count\")\n",
    "plt.xticks(rotation=0)\n",
    "plt.grid(axis=\"y\", linestyle=\"--\", alpha=0.7)\n",
    "plt.tight_layout()\n",
    "plt.show()\n"
   ]
  }
 ],
 "metadata": {
  "kernelspec": {
   "display_name": "langchain",
   "language": "python",
   "name": "python3"
  },
  "language_info": {
   "codemirror_mode": {
    "name": "ipython",
    "version": 3
   },
   "file_extension": ".py",
   "mimetype": "text/x-python",
   "name": "python",
   "nbconvert_exporter": "python",
   "pygments_lexer": "ipython3",
   "version": "3.12.8"
  }
 },
 "nbformat": 4,
 "nbformat_minor": 5
}
