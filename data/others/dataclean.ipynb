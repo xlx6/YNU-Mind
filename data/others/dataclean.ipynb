{
 "cells": [
  {
   "cell_type": "code",
   "execution_count": 2,
   "metadata": {},
   "outputs": [
    {
     "name": "stdout",
     "output_type": "stream",
     "text": [
      "修改后的教师详情已保存到 ./teacher_details_cleaned.json\n"
     ]
    }
   ],
   "source": [
    "import json\n",
    "\n",
    "# 输入和输出文件路径\n",
    "detail_input_file = './teacher_details.json'\n",
    "detail_output_file = './teacher_details_cleaned.json'\n",
    "\n",
    "# 读取和处理JSON数据\n",
    "def process_teacher_data(input_file, output_file):\n",
    "    with open(input_file, 'r', encoding='utf-8') as infile:\n",
    "        data = json.load(infile)\n",
    "\n",
    "    modified_data = []\n",
    "\n",
    "    for teacher in data:\n",
    "        # 提取基本信息\n",
    "        name = teacher.get('名字', '')\n",
    "        job_title = teacher.get('职位', '')\n",
    "        contact = teacher.get('联系方式', '')\n",
    "        address = teacher.get('地址', '')\n",
    "        bio = teacher.get('个人简介', '')\n",
    "\n",
    "        # 获取 extra_info 并删除个人简介\n",
    "        extra_info = teacher.get('extra_info', {})\n",
    "        if '个人简介' in extra_info:\n",
    "            del extra_info['个人简介']\n",
    "        if name in extra_info:\n",
    "            del extra_info[name]\n",
    "\n",
    "        # 合并 extra_info 到顶层\n",
    "        teacher_info = {\n",
    "            '名字': name,\n",
    "            '职位': job_title,\n",
    "            '联系方式': contact,\n",
    "            '地址': address,\n",
    "            '个人简介': bio\n",
    "        }\n",
    "        teacher_info.update(extra_info)\n",
    "\n",
    "        modified_data.append(teacher_info)\n",
    "\n",
    "    # 保存修改后的数据\n",
    "    with open(output_file, 'w', encoding='utf-8') as outfile:\n",
    "        json.dump(modified_data, outfile, ensure_ascii=False, indent=4)\n",
    "\n",
    "    print(f\"修改后的教师详情已保存到 {output_file}\")\n",
    "\n",
    "\n",
    "if __name__ == '__main__':\n",
    "    process_teacher_data(detail_input_file, detail_output_file)\n"
   ]
  },
  {
   "cell_type": "code",
   "execution_count": 3,
   "metadata": {},
   "outputs": [
    {
     "name": "stdout",
     "output_type": "stream",
     "text": [
      "清理后的教师详情已保存到 ./teacher_details_cleaned.json\n"
     ]
    }
   ],
   "source": [
    "import json\n",
    "\n",
    "# 输入和输出文件路径\n",
    "input_file = './teacher_details_cleaned.json'\n",
    "output_file = './teacher_details_cleaned.json'\n",
    "\n",
    "# 删除空值字段\n",
    "def remove_empty_fields(input_file, output_file):\n",
    "    with open(input_file, 'r', encoding='utf-8') as infile:\n",
    "        data = json.load(infile)\n",
    "\n",
    "    cleaned_data = []\n",
    "\n",
    "    for teacher in data:\n",
    "        cleaned_teacher = {k: v for k, v in teacher.items() if v}  # 移除值为空的字段\n",
    "        cleaned_data.append(cleaned_teacher)\n",
    "\n",
    "    # 保存清理后的数据\n",
    "    with open(output_file, 'w', encoding='utf-8') as outfile:\n",
    "        json.dump(cleaned_data, outfile, ensure_ascii=False, indent=4)\n",
    "\n",
    "    print(f\"清理后的教师详情已保存到 {output_file}\")\n",
    "\n",
    "\n",
    "if __name__ == '__main__':\n",
    "    remove_empty_fields(input_file, output_file)\n"
   ]
  }
 ],
 "metadata": {
  "kernelspec": {
   "display_name": "base",
   "language": "python",
   "name": "python3"
  },
  "language_info": {
   "codemirror_mode": {
    "name": "ipython",
    "version": 3
   },
   "file_extension": ".py",
   "mimetype": "text/x-python",
   "name": "python",
   "nbconvert_exporter": "python",
   "pygments_lexer": "ipython3",
   "version": "3.10.13"
  }
 },
 "nbformat": 4,
 "nbformat_minor": 2
}
