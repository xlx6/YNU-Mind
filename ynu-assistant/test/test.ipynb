{
 "cells": [
  {
   "cell_type": "code",
   "execution_count": 1,
   "id": "7d6988f3",
   "metadata": {},
   "outputs": [
    {
     "name": "stdout",
     "output_type": "stream",
     "text": [
      "249\n",
      "249 185 251 685\n",
      "520\n"
     ]
    }
   ],
   "source": [
    "import json\n",
    "import random\n",
    "data = set()\n",
    "\n",
    "with open(\"./xxxy.json\", \"r\", encoding=\"utf-8\") as f:\n",
    "    data1 = json.load(f)\n",
    "print(len(data1))\n",
    "with open(\"./rjxy.json\", \"r\", encoding=\"utf-8\") as f:\n",
    "    data2 = json.load(f)\n",
    "with open(\"./sxytjxy.json\", \"r\", encoding=\"utf-8\") as f:\n",
    "    data3 = json.load(f)\n",
    "\n",
    "dd = data1 + data2 + data3\n",
    "print(len(data1), len(data2), len(data3), len(dd))\n",
    "\n",
    "for line in dd:\n",
    "    data.add((line['name'], line['courseName'], line['collegeName'], line['classroom'], line['building']))\n",
    "print(len(data))\n"
   ]
  },
  {
   "cell_type": "code",
   "execution_count": 2,
   "id": "04ec9777",
   "metadata": {},
   "outputs": [
    {
     "name": "stdout",
     "output_type": "stream",
     "text": [
      "测试问题已保存到 test_q2.json\n"
     ]
    }
   ],
   "source": [
    "\n",
    "\n",
    "campuses = \"呈贡校区\"\n",
    "\n",
    "\n",
    "# 简单问题模板\n",
    "simple_templates = [\n",
    "    \"{name}老师的联系方式是什么？\",\n",
    "    \"介绍一下{name}老师。\",\n",
    "    \"{name}老师的职称是什么？\",\n",
    "    \"{name}老师在哪个学院？\",\n",
    "    \"{name}老师的邮箱是多少？\",\n",
    "    \"{course}是谁教的？\",\n",
    "    \"{course}的学分是多少？\",\n",
    "    \"{classroom}的容量有多大？\",\n",
    "    \"{college}的官方网址是什么？\"\n",
    "]\n",
    "\n",
    "# 两跳问题模板\n",
    "two_hop_templates = [\n",
    "    \"{name}老师教授的课程有哪些？\",\n",
    "    \"{name}老师教授的{course}在哪上课？\",\n",
    "    \"{name}老师教授的{course}的上课时间和地点是什么？\",\n",
    "    \"{course}的上课地点在哪个校区？\",\n",
    "    \"{course}的教学班有多少人？\",\n",
    "    \"{classroom}在哪个校区？\",\n",
    "]\n",
    "\n",
    "# 复杂问题模板\n",
    "complex_templates = [\n",
    "    \"{name}老师所在学院官网是什么？开设的课程有哪些（列出5个）？\",\n",
    "    \"在{building}上课的所有课程中，哪些由{college}开设，且学分超过3？\",\n",
    "    \"{college}有哪些老师发表过关于“人工智能”的论文？\",\n",
    "    \"同时在{classroom}上课的老师有哪些（列出5个）？他们教授的课程是什么？（列出5个）\",\n",
    "    \"找出周一下午在{building}有课且职称是教授的老师（列出5个）\"\n",
    "]\n",
    "data_list = list(data)\n",
    "\n",
    "''' {\n",
    "    \"name\": \"黄光能\",\n",
    "    \"courseName\": \"图说人际关系心理\",\n",
    "    \"collegeName\": \"软件学院\",\n",
    "    \"classroom\": \"格物楼1栋1406\",\n",
    "    \"building\": \"格物楼1栋\"\n",
    "  }'''\n",
    "# 填充函数\n",
    "def fill_templates(templates, data_list):\n",
    "    d = []\n",
    "    for line in data_list:\n",
    "        for template in templates:\n",
    "            filled = template.format(\n",
    "                name=line[0],\n",
    "                course=line[1],\n",
    "                classroom=line[3],\n",
    "                campus=campuses,\n",
    "                college=line[2],\n",
    "                building=line[4]\n",
    "            )\n",
    "            d.append({\"question\": filled})\n",
    "    return d\n",
    "\n",
    "data_list = list(data)\n",
    "# 生成测试数据\n",
    "test_data = {\n",
    "    \"simple\": fill_templates(simple_templates, data_list),\n",
    "    \"two_hop\": fill_templates(two_hop_templates, data_list),\n",
    "    \"complex\": fill_templates(complex_templates, data_list)\n",
    "}\n",
    "\n",
    "# 保存为 JSON 文件\n",
    "with open(\"test_questions.json\", \"w\", encoding=\"utf-8\") as f:\n",
    "    json.dump(test_data, f, ensure_ascii=False, indent=2)\n",
    "\n",
    "print(\"测试问题已保存到 test_q2.json\")\n"
   ]
  },
  {
   "cell_type": "markdown",
   "id": "8cf32be7",
   "metadata": {},
   "source": [
    "# Merge"
   ]
  },
  {
   "cell_type": "code",
   "execution_count": 3,
   "id": "1a7fd2ff",
   "metadata": {},
   "outputs": [
    {
     "name": "stdout",
     "output_type": "stream",
     "text": [
      "50 100 3\n"
     ]
    }
   ],
   "source": [
    "with open(\"./test_questions.json\", \"r\", encoding=\"utf-8\") as f:\n",
    "    neo4j_qa = json.load(f)\n",
    "with open('./open.json', \"r\", encoding=\"utf-8\") as f:\n",
    "    open_qa = json.load(f)\n",
    "with open('./vector.json', \"r\", encoding='utf-8') as f:\n",
    "    vector_qa = json.load(f)\n",
    "print(len(open_qa), len(vector_qa), len(neo4j_qa))\n"
   ]
  },
  {
   "cell_type": "code",
   "execution_count": 4,
   "id": "b155230b",
   "metadata": {},
   "outputs": [
    {
     "name": "stdout",
     "output_type": "stream",
     "text": [
      "<class 'list'>\n",
      "[{'question': '今天昆明的天气怎么样？'}, {'question': '现在几点了？'}, {'question': '人类是怎么登上月球的？'}, {'question': '如何快速学会Python编程？'}, {'question': '为什么天空是蓝色的？'}, {'question': '水能灭火，那油火为什么不能用水灭？'}, {'question': '1+1为什么等于2？'}, {'question': '你能给我讲一个笑话吗？'}, {'question': '推荐几本入门人工智能的书籍。'}, {'question': '中国的最高山峰是哪座？'}, {'question': '如何预防感冒？'}, {'question': '喝咖啡真的会提神吗？'}, {'question': '今天适合出门散步吗？'}, {'question': '介绍一下人工智能的发展历史。'}, {'question': '你知道地球有多重吗？'}, {'question': '“元宇宙”是什么意思？'}, {'question': '我可以如何提高学习效率？'}, {'question': '今年春节是几号？'}, {'question': '世界上最长的河是哪条？'}, {'question': '你能做些什么？'}, {'question': '大学生应该怎么规划职业发展？'}, {'question': '推荐一部适合周末放松的电影。'}, {'question': '人一天应该喝多少水？'}, {'question': '太阳是怎么发光的？'}, {'question': '狗为什么会摇尾巴？'}, {'question': '如何快速背单词？'}, {'question': '你是谁？'}, {'question': '介绍一下图灵测试。'}, {'question': '为什么会打哈欠？'}, {'question': '人为什么会做梦？'}, {'question': '宇宙有边界吗？'}, {'question': '怎么防止手机上瘾？'}, {'question': '为什么猫喜欢蹭人？'}, {'question': '什么是黑洞？'}, {'question': '可以用一句话鼓励我吗？'}, {'question': '云南的气候有什么特点？'}, {'question': '今天是星期几？'}, {'question': '世界上最辣的辣椒是什么？'}, {'question': '你喜欢什么颜色？'}, {'question': '告诉我一个冷知识。'}, {'question': '2025年五一放几天假？'}, {'question': '电动车上坡费电还是下坡费电？'}, {'question': '你能生成一段古风诗吗？'}, {'question': '世界上第一本书是什么？'}, {'question': '介绍一下诺贝尔奖的由来。'}, {'question': '如何做一个番茄炒蛋？'}, {'question': '昆明到大理怎么坐高铁？'}, {'question': '“ChatGPT”是谁开发的？'}, {'question': 'AI 会取代人类的工作吗？'}, {'question': '我今天运势如何？'}]\n",
      "[{'question': '如何办理本科学生放弃辅修或辅修类型变更办理流程？'}, {'question': '毕业证、学位证遗失补办证明书流程是否可以代办？'}, {'question': '云南大学领取本科学历学位证书流程需要哪些材料？'}, {'question': '学生申请课程缓考办理流程的流程复杂吗？'}, {'question': '在哪里可以查到学生申请课程免听办理流程的进度？'}, {'question': '本科学生毕业论文（设计）工作流程在哪里可以申请？'}, {'question': '请问实践教学科项目经费报销流程是否有限定时间？'}, {'question': '学生毕业审核申请学分认定办理流程的办理流程是什么？'}, {'question': '本科学生毕业论文（设计）工作流程要多久能办好？'}, {'question': '申请修改学信网信息办理流程要多久能办好？'}, {'question': '本科学生放弃辅修或辅修类型变更办理流程的审核周期是多久？'}, {'question': '如何办理学生毕业审核申请学分认定办理流程？'}, {'question': '本科学生放弃辅修或辅修类型变更办理流程的办理流程是什么？'}, {'question': '申请学历或学位证明材料办理流程的具体步骤有哪些？'}, {'question': '本科学生毕业论文（设计）工作流程办理时常见的问题有哪些？'}, {'question': '毕业证、学位证补换发流程在哪里可以申请？'}, {'question': '调停课申请流程是否可以代办？'}, {'question': '我想了解一下临时使用教室申请流程。'}, {'question': '在哪里可以查到毕业证、学位证遗失补办证明书流程的进度？'}, {'question': '在哪里可以查到成绩单、学籍证明打印办理流程的进度？'}, {'question': '在哪里可以查到实践教学科项目经费报销流程的进度？'}, {'question': '学生申请课程免听办理流程是否可以代办？'}, {'question': '实践教学科项目经费报销流程需要导师签字吗？'}, {'question': '请问云南大学领取本科学历学位证书流程是否有限定时间？'}, {'question': '补办学生证流程的具体步骤有哪些？'}, {'question': '大学生创新创业训练项目工作流程要多久能办好？'}, {'question': '学生申请课程缓考办理流程的办理流程是什么？'}, {'question': '学生申请课程免修办理流程的具体步骤有哪些？'}, {'question': '本科学生放弃辅修或辅修类型变更办理流程是否可以代办？'}, {'question': '补办学生证流程在哪里可以申请？'}, {'question': '实践教学科项目经费报销流程是否可以线上办理？'}, {'question': '学生毕业审核申请学分认定办理流程的审核周期是多久？'}, {'question': '毕业证、学位证遗失补办证明书流程办理时常见的问题有哪些？'}, {'question': '实践教学科项目经费报销流程需要哪些材料？'}, {'question': '本科学生放弃辅修或辅修类型变更办理流程是否可以代办？'}, {'question': '申请修改学信网信息办理流程的审核周期是多久？'}, {'question': '补办学生证流程的办理流程是什么？'}, {'question': '请问教师办理成绩录入延期、成绩录入系数更改流程是否有限定时间？'}, {'question': '补办学生证流程要多久能办好？'}, {'question': '如何办理调停课申请流程？'}, {'question': '学生申请课程缓考办理流程的具体步骤有哪些？'}, {'question': '临时使用教室申请流程是否可以代办？'}, {'question': '毕业证、学位证遗失补办证明书流程是否可以代办？'}, {'question': '申请学历或学位证明材料办理流程在哪里可以申请？'}, {'question': '毕业证、学位证补换发流程的办理流程是什么？'}, {'question': '成绩单、学籍证明打印办理流程要多久能办好？'}, {'question': '请问毕业证、学位证补换发流程是否有限定时间？'}, {'question': '实践教学科项目经费报销流程的具体步骤有哪些？'}, {'question': '如何办理临时使用教室申请流程？'}, {'question': '实践教学科项目经费报销流程在哪里可以申请？'}, {'question': '教师办理成绩录入延期、成绩录入系数更改流程要多久能办好？'}, {'question': '教师办理成绩录入延期、成绩录入系数更改流程办理时常见的问题有哪些？'}, {'question': '本科学生放弃辅修或辅修类型变更办理流程的流程复杂吗？'}, {'question': '如何办理云南大学领取本科学历学位证书流程？'}, {'question': '云南大学领取本科学历学位证书流程需要哪些材料？'}, {'question': '调停课申请流程是否可以代办？'}, {'question': '请问学生申请课程缓考办理流程是否有限定时间？'}, {'question': '毕业证、学位证补换发流程在哪里可以申请？'}, {'question': '学生申请课程免听办理流程办理时常见的问题有哪些？'}, {'question': '成绩单、学籍证明打印办理流程的具体步骤有哪些？'}, {'question': '申请学历或学位证明材料办理流程需要导师签字吗？'}, {'question': '学生申请课程缓考办理流程的具体步骤有哪些？'}, {'question': '毕业证、学位证遗失补办证明书流程办理时常见的问题有哪些？'}, {'question': '实践教学科项目经费报销流程是否可以代办？'}, {'question': '如何办理教师办理成绩录入延期、成绩录入系数更改流程？'}, {'question': '学生申请课程免听办理流程的办理流程是什么？'}, {'question': '学生申请课程缓考办理流程在哪里可以申请？'}, {'question': '毕业证、学位证补换发流程需要哪些材料？'}, {'question': '我想了解一下大学生创新创业训练项目工作流程。'}, {'question': '实践教学科项目经费报销流程需要导师签字吗？'}, {'question': '学生毕业审核申请学分认定办理流程是否可以线上办理？'}, {'question': '请问申请学历或学位证明材料办理流程是否有限定时间？'}, {'question': '我想了解一下大学生创新创业训练项目工作流程。'}, {'question': '本科学生毕业论文（设计）工作流程在哪里可以申请？'}, {'question': '学生毕业审核申请学分认定办理流程的办理流程是什么？'}, {'question': '云南大学领取本科学历学位证书流程需要导师签字吗？'}, {'question': '本科学生毕业论文（设计）工作流程在哪里可以申请？'}, {'question': '申请修改学信网信息办理流程的具体步骤有哪些？'}, {'question': '我想了解一下毕业证、学位证遗失补办证明书流程。'}, {'question': '成绩单、学籍证明打印办理流程需要哪些材料？'}, {'question': '学生申请课程免听办理流程在哪里可以申请？'}, {'question': '学生申请课程免听办理流程的办理流程是什么？'}, {'question': '本科学生放弃辅修或辅修类型变更办理流程是否可以代办？'}, {'question': '学生申请课程缓考办理流程要多久能办好？'}, {'question': '实践教学科项目经费报销流程需要导师签字吗？'}, {'question': '学生申请课程免修办理流程需要哪些材料？'}, {'question': '实践教学科项目经费报销流程在哪里可以申请？'}, {'question': '在哪里可以查到学生申请课程缓考办理流程的进度？'}, {'question': '学生申请课程免修办理流程的具体步骤有哪些？'}, {'question': '成绩单、学籍证明打印办理流程的办理流程是什么？'}, {'question': '学生毕业审核申请学分认定办理流程的审核周期是多久？'}, {'question': '临时使用教室申请流程的审核周期是多久？'}, {'question': '在哪里可以查到申请修改学信网信息办理流程的进度？'}, {'question': '申请学历或学位证明材料办理流程的流程复杂吗？'}, {'question': '学生申请课程缓考办理流程是否可以线上办理？'}, {'question': '本科学生毕业论文（设计）工作流程在哪里可以申请？'}, {'question': '申请学历或学位证明材料办理流程的具体步骤有哪些？'}, {'question': '我想了解一下本科学生毕业论文（设计）工作流程。'}, {'question': '请问本科学生放弃辅修或辅修类型变更办理流程是否有限定时间？'}, {'question': '如何办理临时使用教室申请流程？'}]\n"
     ]
    }
   ],
   "source": [
    "print(type(open_qa))\n",
    "print(open_qa)\n",
    "print(vector_qa)"
   ]
  },
  {
   "cell_type": "code",
   "execution_count": 5,
   "id": "5dba955e",
   "metadata": {},
   "outputs": [
    {
     "name": "stdout",
     "output_type": "stream",
     "text": [
      "<class 'dict'>\n",
      "4680 3120 2600\n",
      "[{'question': '在数统学院上课的所有课程中，哪些由数学与统计学院开设，且学分超过3？'}, {'question': '关莉老师所在学院官网是什么？开设的课程有哪些（列出5个）？'}, {'question': '李海老师所在学院官网是什么？开设的课程有哪些（列出5个）？'}, {'question': '同时在力行楼4105（小阶梯教室）上课的老师有哪些（列出5个）？他们教授的课程是什么？（列出5个）'}, {'question': '找出周一下午在信息学院有课且职称是教授的老师（列出5个）'}, {'question': '李成梁老师所在学院官网是什么？开设的课程有哪些（列出5个）？'}, {'question': '同时在文渊楼一楼机房A区上课的老师有哪些（列出5个）？他们教授的课程是什么？（列出5个）'}, {'question': '江华老师所在学院官网是什么？开设的课程有哪些（列出5个）？'}, {'question': '在格物楼1栋上课的所有课程中，哪些由数学与统计学院开设，且学分超过3？'}, {'question': '同时在信息学院2204上课的老师有哪些（列出5个）？他们教授的课程是什么？（列出5个）'}, {'question': '同时在格物楼1栋1405上课的老师有哪些（列出5个）？他们教授的课程是什么？（列出5个）'}, {'question': '找出周一下午在力行楼有课且职称是教授的老师（列出5个）'}, {'question': '在物理学院上课的所有课程中，哪些由信息学院开设，且学分超过3？'}, {'question': '找出周一下午在格物楼2栋有课且职称是教授的老师（列出5个）'}, {'question': '同时在格物楼1栋1505上课的老师有哪些（列出5个）？他们教授的课程是什么？（列出5个）'}, {'question': '信息学院有哪些老师发表过关于“人工智能”的论文？'}, {'question': '找出周一下午在格物楼1栋有课且职称是教授的老师（列出5个）'}, {'question': '软件学院有哪些老师发表过关于“人工智能”的论文？'}, {'question': '李震雄老师所在学院官网是什么？开设的课程有哪些（列出5个）？'}, {'question': '找出周一下午在信息学院有课且职称是教授的老师（列出5个）'}, {'question': '在格物楼3栋上课的所有课程中，哪些由数学与统计学院开设，且学分超过3？'}, {'question': '钱文华老师所在学院官网是什么？开设的课程有哪些（列出5个）？'}, {'question': '找出周一下午在信息学院有课且职称是教授的老师（列出5个）'}, {'question': '丁海燕老师所在学院官网是什么？开设的课程有哪些（列出5个）？'}, {'question': '在格物楼4栋上课的所有课程中，哪些由数学与统计学院开设，且学分超过3？'}, {'question': '找出周一下午在格物楼1栋有课且职称是教授的老师（列出5个）'}, {'question': '余立行老师所在学院官网是什么？开设的课程有哪些（列出5个）？'}, {'question': '数学与统计学院有哪些老师发表过关于“人工智能”的论文？'}, {'question': '同时在文汇楼3栋3201上课的老师有哪些（列出5个）？他们教授的课程是什么？（列出5个）'}, {'question': '软件学院有哪些老师发表过关于“人工智能”的论文？'}, {'question': '软件学院有哪些老师发表过关于“人工智能”的论文？'}, {'question': '在格物楼4栋上课的所有课程中，哪些由信息学院开设，且学分超过3？'}, {'question': '在力行楼上课的所有课程中，哪些由数学与统计学院开设，且学分超过3？'}, {'question': '找出周一下午在力行楼有课且职称是教授的老师（列出5个）'}, {'question': '同时在格物楼4栋4105上课的老师有哪些（列出5个）？他们教授的课程是什么？（列出5个）'}, {'question': '数学与统计学院有哪些老师发表过关于“人工智能”的论文？'}, {'question': '同时在文渊楼419上课的老师有哪些（列出5个）？他们教授的课程是什么？（列出5个）'}, {'question': '杨培忠老师所在学院官网是什么？开设的课程有哪些（列出5个）？'}, {'question': '找出周一下午在力行楼有课且职称是教授的老师（列出5个）'}, {'question': '肖清老师所在学院官网是什么？开设的课程有哪些（列出5个）？'}, {'question': '廖赟老师所在学院官网是什么？开设的课程有哪些（列出5个）？'}, {'question': '汪军老师所在学院官网是什么？开设的课程有哪些（列出5个）？'}, {'question': '柏正尧老师所在学院官网是什么？开设的课程有哪些（列出5个）？'}, {'question': '黄亚群老师所在学院官网是什么？开设的课程有哪些（列出5个）？'}, {'question': '数学与统计学院有哪些老师发表过关于“人工智能”的论文？'}, {'question': '代新杰老师所在学院官网是什么？开设的课程有哪些（列出5个）？'}, {'question': '软件学院有哪些老师发表过关于“人工智能”的论文？'}, {'question': '余鹏飞老师所在学院官网是什么？开设的课程有哪些（列出5个）？'}, {'question': '易超老师所在学院官网是什么？开设的课程有哪些（列出5个）？'}, {'question': '孙兴平老师所在学院官网是什么？开设的课程有哪些（列出5个）？'}, {'question': '同时在信息学院2203上课的老师有哪些（列出5个）？他们教授的课程是什么？（列出5个）'}, {'question': '信息学院有哪些老师发表过关于“人工智能”的论文？'}, {'question': '在格物楼1栋上课的所有课程中，哪些由信息学院开设，且学分超过3？'}, {'question': '同时在格物楼2栋2104上课的老师有哪些（列出5个）？他们教授的课程是什么？（列出5个）'}, {'question': '找出周一下午在格物楼1栋有课且职称是教授的老师（列出5个）'}, {'question': '李浩老师所在学院官网是什么？开设的课程有哪些（列出5个）？'}, {'question': '软件学院有哪些老师发表过关于“人工智能”的论文？'}, {'question': '找出周一下午在格物楼1栋有课且职称是教授的老师（列出5个）'}, {'question': '找出周一下午在商旅学院有课且职称是教授的老师（列出5个）'}, {'question': '找出周一下午在力行楼有课且职称是教授的老师（列出5个）'}, {'question': '找出周一下午在格物楼2栋有课且职称是教授的老师（列出5个）'}, {'question': '软件学院有哪些老师发表过关于“人工智能”的论文？'}, {'question': '信息学院有哪些老师发表过关于“人工智能”的论文？'}, {'question': '找出周一下午在格物楼1栋有课且职称是教授的老师（列出5个）'}, {'question': '同时在信息学院2202上课的老师有哪些（列出5个）？他们教授的课程是什么？（列出5个）'}, {'question': '刘宏杰老师所在学院官网是什么？开设的课程有哪些（列出5个）？'}, {'question': '软件学院有哪些老师发表过关于“人工智能”的论文？'}, {'question': '冯立波老师所在学院官网是什么？开设的课程有哪些（列出5个）？'}, {'question': '数学与统计学院有哪些老师发表过关于“人工智能”的论文？'}, {'question': '在格物楼1栋上课的所有课程中，哪些由数学与统计学院开设，且学分超过3？'}, {'question': '同时在力行楼4606上课的老师有哪些（列出5个）？他们教授的课程是什么？（列出5个）'}, {'question': '信息学院有哪些老师发表过关于“人工智能”的论文？'}, {'question': '在格物楼1栋上课的所有课程中，哪些由数学与统计学院开设，且学分超过3？'}, {'question': '找出周一下午在信息学院有课且职称是教授的老师（列出5个）'}, {'question': '找出周一下午在格物楼1栋有课且职称是教授的老师（列出5个）'}, {'question': '信息学院有哪些老师发表过关于“人工智能”的论文？'}, {'question': '找出周一下午在格物楼1栋有课且职称是教授的老师（列出5个）'}, {'question': '找出周一下午在力行楼有课且职称是教授的老师（列出5个）'}, {'question': '同时在格物楼1栋1406上课的老师有哪些（列出5个）？他们教授的课程是什么？（列出5个）'}, {'question': '在信息学院上课的所有课程中，哪些由信息学院开设，且学分超过3？'}, {'question': '找出周一下午在力行楼有课且职称是教授的老师（列出5个）'}, {'question': '软件学院有哪些老师发表过关于“人工智能”的论文？'}, {'question': '找出周一下午在力行楼有课且职称是教授的老师（列出5个）'}, {'question': '同时在文渊楼203上课的老师有哪些（列出5个）？他们教授的课程是什么？（列出5个）'}, {'question': '黄亚群老师所在学院官网是什么？开设的课程有哪些（列出5个）？'}, {'question': '在格物楼2栋上课的所有课程中，哪些由信息学院开设，且学分超过3？'}, {'question': '找出周一下午在物理学院有课且职称是教授的老师（列出5个）'}, {'question': '王超老师所在学院官网是什么？开设的课程有哪些（列出5个）？'}, {'question': '王钦老师所在学院官网是什么？开设的课程有哪些（列出5个）？'}, {'question': '同时在格物楼1栋1405上课的老师有哪些（列出5个）？他们教授的课程是什么？（列出5个）'}, {'question': '在格物楼1栋上课的所有课程中，哪些由软件学院开设，且学分超过3？'}, {'question': '同时在力行楼1201（大阶梯教室）上课的老师有哪些（列出5个）？他们教授的课程是什么？（列出5个）'}, {'question': '信息学院有哪些老师发表过关于“人工智能”的论文？'}, {'question': '找出周一下午在格物楼1栋有课且职称是教授的老师（列出5个）'}, {'question': '同时在格物楼1栋1107上课的老师有哪些（列出5个）？他们教授的课程是什么？（列出5个）'}, {'question': '在力行楼上课的所有课程中，哪些由软件学院开设，且学分超过3？'}, {'question': '同时在力行楼4107（小阶梯教室）上课的老师有哪些（列出5个）？他们教授的课程是什么？（列出5个）'}, {'question': '在软件学院上课的所有课程中，哪些由软件学院开设，且学分超过3？'}, {'question': '李伟东老师所在学院官网是什么？开设的课程有哪些（列出5个）？'}, {'question': '同时在格物楼1栋1608上课的老师有哪些（列出5个）？他们教授的课程是什么？（列出5个）'}]\n"
     ]
    }
   ],
   "source": [
    "import json\n",
    "\n",
    "with open(\"./test_questions.json\", \"r\", encoding=\"utf-8\") as f:\n",
    "    neo4j_qa = json.load(f)\n",
    "with open('./open.json', \"r\", encoding=\"utf-8\") as f:\n",
    "    open_qa = json.load(f)\n",
    "with open('./vector.json', \"r\", encoding='utf-8') as f:\n",
    "    vector_qa = json.load(f)\n",
    "print(type(neo4j_qa))\n",
    "simple = neo4j_qa[\"simple\"]\n",
    "middle = neo4j_qa[\"two_hop\"]\n",
    "hard = neo4j_qa[\"complex\"]\n",
    "\n",
    "print(len(simple), len(middle), len(hard))\n",
    "\n",
    "# 随机选取simple中的1000个问题\n",
    "import random\n",
    "simple_sample = random.sample(simple, 300)\n",
    "middle_sample = random.sample(middle, 100)\n",
    "hard_sample = random.sample(hard, 100)\n",
    "print(hard_sample)"
   ]
  },
  {
   "cell_type": "code",
   "execution_count": 7,
   "id": "295b2cac",
   "metadata": {},
   "outputs": [
    {
     "name": "stdout",
     "output_type": "stream",
     "text": [
      "800\n"
     ]
    }
   ],
   "source": [
    "all_data = []\n",
    "for q in simple_sample:\n",
    "    temp = {'question': q['question'], 'intention': 'neo4j', 'level': 'simple', 'answer': ''}\n",
    "    all_data.append(temp)\n",
    "for q in middle_sample:\n",
    "    temp = {'question': q['question'], 'intention': 'neo4j', 'level':'medium', 'answer': ''}\n",
    "    all_data.append(temp)\n",
    "for q in hard_sample:\n",
    "    temp = {'question': q['question'], 'intention': 'neo4j', 'level': 'hard', 'answer': ''}\n",
    "    all_data.append(temp)\n",
    "for q in open_qa:\n",
    "    temp = {'question': q['question'], 'intention': 'open', 'level': 'simple', 'answer': ''}\n",
    "    all_data.append(temp)\n",
    "for q in vector_qa:\n",
    "    temp = {'question': q['question'], 'intention': 'vector', 'level': 'simple', 'answer': ''}\n",
    "    all_data.append(temp)\n",
    "s1 = random.sample(middle_sample, 50)\n",
    "s2 = random.sample(simple_sample, 100)\n",
    "for q1, q2, q3 in zip(s1, vector_qa, open_qa):\n",
    "    temp = {'question': q1['question'] + q2['question'] + q3['question'], 'intention': 'neo4j+vector+open', 'level': 'hard', 'answer': ''}\n",
    "    all_data.append(temp)\n",
    "for q1, q2 in zip(s2, vector_qa):\n",
    "    temp = {'question': q1['question'] + q2['question'], 'intention': 'neo4j+vector', 'level': 'hard', 'answer': ''}\n",
    "    all_data.append(temp)\n",
    "print(len(all_data))\n",
    "\n",
    "with open('./test_q4.json', 'w', encoding='utf-8') as f:\n",
    "    json.dump(all_data, f, ensure_ascii=False, indent=4)\n",
    "    \n",
    "\n"
   ]
  }
 ],
 "metadata": {
  "kernelspec": {
   "display_name": "langchain",
   "language": "python",
   "name": "python3"
  },
  "language_info": {
   "codemirror_mode": {
    "name": "ipython",
    "version": 3
   },
   "file_extension": ".py",
   "mimetype": "text/x-python",
   "name": "python",
   "nbconvert_exporter": "python",
   "pygments_lexer": "ipython3",
   "version": "3.12.8"
  }
 },
 "nbformat": 4,
 "nbformat_minor": 5
}
