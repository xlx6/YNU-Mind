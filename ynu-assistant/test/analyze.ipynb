{
 "cells": [
  {
   "cell_type": "code",
   "execution_count": null,
   "id": "f98f8978",
   "metadata": {},
   "outputs": [
    {
     "name": "stdout",
     "output_type": "stream",
     "text": [
      "WebSearchResp(created=1746957977, request_id='2025051118061657e6a3a88f534cfc', id='2025051118061657e6a3a88f534cfc', search_intent=[SearchIntentResp(query='呈贡区天气怎么样', intent='SEARCH_ALL', keywords='呈贡区 天气')], search_result=[SearchResultResp(title='呈贡 天气', link='', content='呈贡当前(2025年05月11日)天气: 多云 22.8摄氏度, 西南风2级, 湿度: 40%, 空气质量: 42.\\n未来7天天气预报:\\n(2025年05月11日): 白天:多云, 最高气温22摄氏度 ,无持续风向<3级. 夜间:多云, 最低气温11摄氏度 ,无持续风向<3级\\n(2025年05月12日): 白天:多云, 最高气温25摄氏度 ,无持续风向<3级. 夜间:多云, 最低气温15摄氏度 ,无持续风向<3级\\n(2025年05月13日): 白天:阵雨, 最高气温27摄氏度 ,无持续风向<3级. 夜间:多云, 最低气温16摄氏度 ,无持续风向<3级\\n(2025年05月14日): 白天:中雨, 最高气温22摄氏度 ,无持续风向<3级. 夜间:中雨, 最低气温15摄氏度 ,无持续风向<3级\\n(2025年05月15日): 白天:小雨, 最高气温22摄氏度 ,无持续风向<3级. 夜间:小雨, 最低气温15摄氏度 ,无持续风向<3级\\n(2025年05月16日): 白天:多云, 最高气温24摄氏度 ,无持续风向<3级. 夜间:多云, 最低气温15摄氏度 ,无持续风向<3级\\n(2025年05月17日): 白天:小雨, 最高气温24摄氏度 ,无持续风向<3级. 夜间:中雨, 最低气温16摄氏度 ,无持续风向<3级\\n', icon='', media='', refer='ref_1')])\n"
     ]
    }
   ],
   "source": [
    "from zhipuai import ZhipuAI\n",
    "\n",
    "# 初始化 ZhipuAI 客户端\n",
    "client = ZhipuAI(api_key=\"\")\n",
    "\n",
    "response = client.web_search.web_search(\n",
    "    search_engine=\"search-std\",\n",
    "    search_query=\"呈贡区天气怎么样\"\n",
    ")\n",
    "\n",
    "print(response)"
   ]
  },
  {
   "cell_type": "code",
   "execution_count": null,
   "id": "f4aa27ef",
   "metadata": {},
   "outputs": [
    {
     "name": "stdout",
     "output_type": "stream",
     "text": [
      "我是Qwen，由阿里云开发的预训练语言模型。我的设计目的是帮助用户生成各种类型的文本，如文章、故事、诗歌、故事等，并能够根据不同的场景和需求提供相应的信息和支持。无论是创作辅助、知识问答还是日常聊天，我都会尽力提供帮助。有什么我可以帮到你的吗？\n"
     ]
    }
   ],
   "source": [
    "import os\n",
    "from openai import OpenAI\n",
    "\n",
    "client = OpenAI(\n",
    "    # 若没有配置环境变量，请用百炼API Key将下行替换为：api_key=\"sk-xxx\",\n",
    "    api_key='', # 如何获取API Key：https://help.aliyun.com/zh/model-studio/developer-reference/get-api-key\n",
    "    base_url=\"https://dashscope.aliyuncs.com/compatible-mode/v1\",\n",
    ")\n",
    "\n",
    "completion = client.chat.completions.create(\n",
    "    model=\"qwen-max\", # 模型列表：https://help.aliyun.com/zh/model-studio/getting-started/models\n",
    "    messages=[\n",
    "        {'role': 'system', 'content': 'You are a helpful assistant.'},\n",
    "        {'role': 'user', 'content': '你是谁？'}\n",
    "        ]\n",
    ")\n",
    "print(completion.choices[0].message.content)"
   ]
  },
  {
   "cell_type": "code",
   "execution_count": 11,
   "id": "46217dd0",
   "metadata": {},
   "outputs": [
    {
     "name": "stdout",
     "output_type": "stream",
     "text": [
      "呈贡当前(2025年05月11日)天气: 多云 22.8摄氏度, 西南风2级, 湿度: 40%, 空气质量: 42.\n",
      "未来7天天气预报:\n",
      "(2025年05月11日): 白天:多云, 最高气温22摄氏度 ,无持续风向<3级. 夜间:多云, 最低气温11摄氏度 ,无持续风向<3级\n",
      "(2025年05月12日): 白天:多云, 最高气温25摄氏度 ,无持续风向<3级. 夜间:多云, 最低气温15摄氏度 ,无持续风向<3级\n",
      "(2025年05月13日): 白天:阵雨, 最高气温27摄氏度 ,无持续风向<3级. 夜间:多云, 最低气温16摄氏度 ,无持续风向<3级\n",
      "(2025年05月14日): 白天:中雨, 最高气温22摄氏度 ,无持续风向<3级. 夜间:中雨, 最低气温15摄氏度 ,无持续风向<3级\n",
      "(2025年05月15日): 白天:小雨, 最高气温22摄氏度 ,无持续风向<3级. 夜间:小雨, 最低气温15摄氏度 ,无持续风向<3级\n",
      "(2025年05月16日): 白天:多云, 最高气温24摄氏度 ,无持续风向<3级. 夜间:多云, 最低气温15摄氏度 ,无持续风向<3级\n",
      "(2025年05月17日): 白天:小雨, 最高气温24摄氏度 ,无持续风向<3级. 夜间:中雨, 最低气温16摄氏度 ,无持续风向<3级\n",
      "\n"
     ]
    }
   ],
   "source": [
    "print(response.search_result[0].content)"
   ]
  },
  {
   "cell_type": "code",
   "execution_count": 19,
   "id": "3452a469",
   "metadata": {},
   "outputs": [
    {
     "name": "stdout",
     "output_type": "stream",
     "text": [
      "['2104']\n"
     ]
    }
   ],
   "source": [
    "import re\n",
    "classroom_name = \"格物楼2104\"\n",
    "numbers = re.findall(r'\\d{3,}', classroom_name)\n",
    "print(numbers)"
   ]
  },
  {
   "cell_type": "code",
   "execution_count": 22,
   "id": "1755d673",
   "metadata": {},
   "outputs": [
    {
     "name": "stdout",
     "output_type": "stream",
     "text": [
      "800\n"
     ]
    }
   ],
   "source": [
    "import json\n",
    "\n",
    "with open('test_q.json', 'r', encoding='utf-8') as f:\n",
    "    result1 = json.load(f)\n",
    "with open('test_q2_neo_bc.json', 'r', encoding='utf-8') as f:\n",
    "    result2 = json.load(f)\n",
    "with open('test_q4.json', 'r', encoding='utf-8') as f:\n",
    "    test_cases = json.load(f)\n",
    "print(len(test_case))"
   ]
  },
  {
   "cell_type": "code",
   "execution_count": 53,
   "id": "07aa98e2",
   "metadata": {},
   "outputs": [
    {
     "name": "stdout",
     "output_type": "stream",
     "text": [
      "=== 性能统计报表 ===\n",
      "平均路由时间(s)     1.124277\n",
      "平均图谱查询(s)     1.073159\n",
      "平均响应时间(s)     1.256769\n",
      "意图识别准确率       0.945000\n",
      "错误发生率         0.001250\n",
      "有效回答率         0.863750\n",
      "Neo4j正确但回答错误  0.152500\n"
     ]
    }
   ],
   "source": [
    "import json\n",
    "import matplotlib.pyplot as plt\n",
    "import pandas as pd\n",
    "\n",
    "# 测试数据\n",
    "\n",
    "\n",
    "# 指标统计\n",
    "performance = {\n",
    "    'routing_times': [],\n",
    "    'neo4j_times': [],\n",
    "    'answer_times': [],\n",
    "    'intention_accuracy': 0,\n",
    "    'error_cases': 0,\n",
    "    'answer_quality': [],\n",
    "    'neo4j_correct_but_wrong_answer': 0,\n",
    "    'abnormal_rate': 0\n",
    "}\n",
    "\n",
    "neo4j_correct_but_wrong_answer = []\n",
    "errors = []\n",
    "# 数据处理\n",
    "for idx,case in enumerate(test_cases):\n",
    "    # 时间性能指标\n",
    "    performance['routing_times'].append(case['routing_time'])\n",
    "    performance['neo4j_times'].append(sum([n['time'] for n in case['neo4j']]))\n",
    "    performance['answer_times'].append(case['answer_time'])\n",
    "    neo4j_result = case['neo4j']\n",
    "    if neo4j_result:\n",
    "        neo4j_result = neo4j_result[0]['content']\n",
    "    # 意图识别准确率\n",
    "    intention = case['intention'].strip().split('+')\n",
    "    prediction = case['routing_result']['type']\n",
    "    if intention == prediction:\n",
    "        performance['intention_accuracy'] += 1\n",
    "    \n",
    "    # 错误检测\n",
    "    performance['error_cases'] += 1 if case['errors'] else 0\n",
    "    \n",
    "    # 回答质量评估（示例规则）\n",
    "    quality = 0 if (\"未找到\" not in case['answer'] and not neo4j_result) else 1\n",
    "    temp = 1 if (\"未找到\" in case['answer'] and neo4j_result) else 0\n",
    "    abnormal = 1 if case['errors'] else 0\n",
    "    performance['abnormal_rate'] += abnormal\n",
    "    performance['answer_quality'].append(quality)\n",
    "    performance['neo4j_correct_but_wrong_answer'] += temp\n",
    "    if abnormal:\n",
    "        errors.append(idx)\n",
    "    if temp == 1:\n",
    "        neo4j_correct_but_wrong_answer.append(idx)\n",
    "\n",
    "# 生成统计报表\n",
    "df = pd.DataFrame({\n",
    "    '平均路由时间(s)': [sum(performance['routing_times'])/len(test_cases)],\n",
    "    '平均图谱查询(s)': [sum(performance['neo4j_times'])/len(test_cases)],\n",
    "    '平均响应时间(s)': [sum(performance['answer_times'])/len(test_cases)],\n",
    "    '意图识别准确率': [performance['intention_accuracy']/len(test_cases)],\n",
    "    '错误发生率': [performance['error_cases']/len(test_cases)],\n",
    "    '有效回答率': [sum(performance['answer_quality'])/len(test_cases)],\n",
    "    'Neo4j正确但回答错误': [performance['neo4j_correct_but_wrong_answer']/len(test_cases)]\n",
    "}).T\n",
    "\n",
    "print(\"=== 性能统计报表 ===\")\n",
    "print(df.to_string(header=False))"
   ]
  },
  {
   "cell_type": "code",
   "execution_count": 57,
   "id": "487e446d",
   "metadata": {},
   "outputs": [
    {
     "name": "stdout",
     "output_type": "stream",
     "text": [
      "{'question': '同时在信息学院2202上课的老师有哪些（列出5个）？他们教授的课程是什么？（列出5个）', 'intention': 'neo4j', 'level': 'hard', 'answer': '暂未找到相关信息。', 'errors': ['[KG Error] 同时在信息学院2202上课的老师有哪些（列出5个）？: list indices must be integers or slices, not str'], 'routing_result': {'question': ['同时在信息学院2202上课的老师有哪些（列出5个）？', '他们教授的课程是什么？（列出5个）'], 'type': ['neo4j', 'neo4j']}, 'routing_time': 1.2125279903411865, 'neo4j': [{'question': '同时在信息学院2202上课的老师有哪些（列出5个）？', 'content': '[KG Error] list indices must be integers or slices, not str', 'time': 1.3426189422607422}, {'question': '他们教授的课程是什么？（列出5个）', 'content': [], 'cypher': 'MATCH (p:Person)-[:TAUGHT_BY]->(cs:CourseSession)-[:OFFERED_AS]->(c:Course)\\nRETURN DISTINCT c\\nLIMIT 5', 'time': 2.044818162918091}], 'vector': [], 'open': [], 'answer_time': 0.38702964782714844}\n"
     ]
    },
    {
     "data": {
      "text/plain": [
       "464"
      ]
     },
     "execution_count": 57,
     "metadata": {},
     "output_type": "execute_result"
    }
   ],
   "source": [
    "print(test_cases[errors[0]])\n",
    "errors[0]"
   ]
  },
  {
   "cell_type": "code",
   "execution_count": 52,
   "id": "03fdbc22",
   "metadata": {},
   "outputs": [
    {
     "name": "stdout",
     "output_type": "stream",
     "text": [
      "122\n",
      "122\n"
     ]
    }
   ],
   "source": [
    "print(len(neo4j_correct_but_wrong_answer))\n",
    "\n",
    "nnn = [test_cases[idx] for idx in neo4j_correct_but_wrong_answer]\n",
    "print(len(nnn))\n",
    "with open('wrong_answers.json', 'w', encoding='utf-8') as f:\n",
    "    json.dump(nnn, f, ensure_ascii=False, indent=4)"
   ]
  },
  {
   "cell_type": "code",
   "execution_count": 25,
   "id": "4ff70523",
   "metadata": {},
   "outputs": [
    {
     "name": "stdout",
     "output_type": "stream",
     "text": [
      "Intention: ['neo4j'], Prediction: ['neo4j', 'neo4j'], Question: 关莉老师所在学院官网是什么？开设的课程有哪些（列出5个）？\n",
      "Intention: ['neo4j'], Prediction: ['neo4j', 'neo4j'], Question: 李海老师所在学院官网是什么？开设的课程有哪些（列出5个）？\n",
      "Intention: ['neo4j'], Prediction: ['neo4j', 'neo4j'], Question: 同时在力行楼4105（小阶梯教室）上课的老师有哪些（列出5个）？他们教授的课程是什么？（列出5个）\n",
      "Intention: ['neo4j'], Prediction: ['neo4j', 'neo4j'], Question: 李成梁老师所在学院官网是什么？开设的课程有哪些（列出5个）？\n",
      "Intention: ['neo4j'], Prediction: ['neo4j', 'neo4j'], Question: 同时在文渊楼一楼机房A区上课的老师有哪些（列出5个）？他们教授的课程是什么？（列出5个）\n",
      "Intention: ['neo4j'], Prediction: ['neo4j', 'neo4j'], Question: 江华老师所在学院官网是什么？开设的课程有哪些（列出5个）？\n",
      "Intention: ['neo4j'], Prediction: ['neo4j', 'neo4j'], Question: 同时在信息学院2204上课的老师有哪些（列出5个）？他们教授的课程是什么？（列出5个）\n",
      "Intention: ['neo4j'], Prediction: ['neo4j', 'neo4j'], Question: 同时在格物楼1栋1405上课的老师有哪些（列出5个）？他们教授的课程是什么？（列出5个）\n",
      "Intention: ['neo4j'], Prediction: ['neo4j', 'neo4j'], Question: 同时在格物楼1栋1505上课的老师有哪些（列出5个）？他们教授的课程是什么？（列出5个）\n",
      "Intention: ['neo4j'], Prediction: ['neo4j', 'neo4j'], Question: 李震雄老师所在学院官网是什么？开设的课程有哪些（列出5个）？\n",
      "Intention: ['neo4j'], Prediction: ['neo4j', 'neo4j'], Question: 钱文华老师所在学院官网是什么？开设的课程有哪些（列出5个）？\n",
      "Intention: ['neo4j'], Prediction: ['neo4j', 'neo4j'], Question: 丁海燕老师所在学院官网是什么？开设的课程有哪些（列出5个）？\n",
      "Intention: ['neo4j'], Prediction: ['neo4j', 'neo4j'], Question: 余立行老师所在学院官网是什么？开设的课程有哪些（列出5个）？\n",
      "Intention: ['neo4j'], Prediction: ['neo4j', 'neo4j'], Question: 同时在文汇楼3栋3201上课的老师有哪些（列出5个）？他们教授的课程是什么？（列出5个）\n",
      "Intention: ['neo4j'], Prediction: ['neo4j', 'neo4j'], Question: 同时在格物楼4栋4105上课的老师有哪些（列出5个）？他们教授的课程是什么？（列出5个）\n",
      "Intention: ['neo4j'], Prediction: ['neo4j', 'neo4j'], Question: 同时在文渊楼419上课的老师有哪些（列出5个）？他们教授的课程是什么？（列出5个）\n",
      "Intention: ['neo4j'], Prediction: ['neo4j', 'neo4j'], Question: 杨培忠老师所在学院官网是什么？开设的课程有哪些（列出5个）？\n",
      "Intention: ['neo4j'], Prediction: ['neo4j', 'neo4j'], Question: 肖清老师所在学院官网是什么？开设的课程有哪些（列出5个）？\n",
      "Intention: ['neo4j'], Prediction: ['neo4j', 'neo4j'], Question: 廖赟老师所在学院官网是什么？开设的课程有哪些（列出5个）？\n",
      "Intention: ['neo4j'], Prediction: ['neo4j', 'neo4j'], Question: 汪军老师所在学院官网是什么？开设的课程有哪些（列出5个）？\n",
      "Intention: ['neo4j'], Prediction: ['neo4j', 'neo4j'], Question: 柏正尧老师所在学院官网是什么？开设的课程有哪些（列出5个）？\n",
      "Intention: ['neo4j'], Prediction: ['neo4j', 'neo4j'], Question: 黄亚群老师所在学院官网是什么？开设的课程有哪些（列出5个）？\n",
      "Intention: ['neo4j'], Prediction: ['neo4j', 'neo4j'], Question: 代新杰老师所在学院官网是什么？开设的课程有哪些（列出5个）？\n",
      "Intention: ['neo4j'], Prediction: ['neo4j', 'neo4j'], Question: 余鹏飞老师所在学院官网是什么？开设的课程有哪些（列出5个）？\n",
      "Intention: ['neo4j'], Prediction: ['neo4j', 'neo4j'], Question: 易超老师所在学院官网是什么？开设的课程有哪些（列出5个）？\n",
      "Intention: ['neo4j'], Prediction: ['neo4j', 'neo4j'], Question: 孙兴平老师所在学院官网是什么？开设的课程有哪些（列出5个）？\n",
      "Intention: ['neo4j'], Prediction: ['neo4j', 'neo4j'], Question: 同时在信息学院2203上课的老师有哪些（列出5个）？他们教授的课程是什么？（列出5个）\n",
      "Intention: ['neo4j'], Prediction: ['neo4j', 'neo4j'], Question: 同时在格物楼2栋2104上课的老师有哪些（列出5个）？他们教授的课程是什么？（列出5个）\n",
      "Intention: ['neo4j'], Prediction: ['neo4j', 'neo4j'], Question: 李浩老师所在学院官网是什么？开设的课程有哪些（列出5个）？\n",
      "Intention: ['neo4j'], Prediction: ['neo4j', 'neo4j'], Question: 同时在信息学院2202上课的老师有哪些（列出5个）？他们教授的课程是什么？（列出5个）\n",
      "Intention: ['neo4j'], Prediction: ['neo4j', 'neo4j'], Question: 刘宏杰老师所在学院官网是什么？开设的课程有哪些（列出5个）？\n",
      "Intention: ['neo4j'], Prediction: ['neo4j', 'neo4j'], Question: 冯立波老师所在学院官网是什么？开设的课程有哪些（列出5个）？\n",
      "Intention: ['neo4j'], Prediction: ['neo4j', 'neo4j'], Question: 同时在力行楼4606上课的老师有哪些（列出5个）？他们教授的课程是什么？（列出5个）\n",
      "Intention: ['neo4j'], Prediction: ['neo4j', 'neo4j'], Question: 同时在格物楼1栋1406上课的老师有哪些（列出5个）？他们教授的课程是什么？（列出5个）\n",
      "Intention: ['neo4j'], Prediction: ['neo4j', 'neo4j'], Question: 同时在文渊楼203上课的老师有哪些（列出5个）？他们教授的课程是什么？（列出5个）\n",
      "Intention: ['neo4j'], Prediction: ['neo4j', 'neo4j'], Question: 黄亚群老师所在学院官网是什么？开设的课程有哪些（列出5个）？\n",
      "Intention: ['neo4j'], Prediction: ['neo4j', 'neo4j'], Question: 王超老师所在学院官网是什么？开设的课程有哪些（列出5个）？\n",
      "Intention: ['neo4j'], Prediction: ['neo4j', 'neo4j'], Question: 王钦老师所在学院官网是什么？开设的课程有哪些（列出5个）？\n",
      "Intention: ['neo4j'], Prediction: ['neo4j', 'neo4j'], Question: 同时在格物楼1栋1405上课的老师有哪些（列出5个）？他们教授的课程是什么？（列出5个）\n",
      "Intention: ['neo4j'], Prediction: ['neo4j', 'neo4j'], Question: 同时在力行楼1201（大阶梯教室）上课的老师有哪些（列出5个）？他们教授的课程是什么？（列出5个）\n",
      "Intention: ['neo4j'], Prediction: ['neo4j', 'neo4j'], Question: 同时在格物楼1栋1107上课的老师有哪些（列出5个）？他们教授的课程是什么？（列出5个）\n",
      "Intention: ['neo4j'], Prediction: ['neo4j', 'neo4j'], Question: 同时在力行楼4107（小阶梯教室）上课的老师有哪些（列出5个）？他们教授的课程是什么？（列出5个）\n",
      "Intention: ['neo4j'], Prediction: ['neo4j', 'neo4j'], Question: 李伟东老师所在学院官网是什么？开设的课程有哪些（列出5个）？\n",
      "Intention: ['neo4j'], Prediction: ['neo4j', 'neo4j'], Question: 同时在格物楼1栋1608上课的老师有哪些（列出5个）？他们教授的课程是什么？（列出5个）\n",
      "Intention Accuracy: 94.5%\n"
     ]
    }
   ],
   "source": [
    "count = 0\n",
    "for item in test_cases:\n",
    "    intention = item['intention'].strip().split('+')\n",
    "    prediction = item['routing_result']['type']\n",
    "    if intention == prediction:\n",
    "        count += 1\n",
    "    else:\n",
    "        print(f\"Intention: {intention}, Prediction: {prediction}, Question: {item['question']}\")\n",
    "    \n",
    "print(f\"Intention Accuracy: {count/len(test_cases)*100}%\")"
   ]
  },
  {
   "cell_type": "code",
   "execution_count": null,
   "id": "1dce95d0",
   "metadata": {},
   "outputs": [],
   "source": [
    "# spell_checker.py\n",
    "from symspellpy import SymSpell, Verbosity\n",
    "import json\n",
    "from typing import Tuple\n",
    "\n",
    "class SpellChecker:\n",
    "    def __init__(self):\n",
    "        # 初始化拼写检查器\n",
    "        self.sym_spell = SymSpell(max_dictionary_edit_distance=2)\n",
    "        \n",
    "        # 加载自定义词典（需提前从知识图谱导出实体）\n",
    "        self._load_custom_dictionary(\"data/entities.txt\")\n",
    "        \n",
    "        # 加载通用词典\n",
    "        self.sym_spell.load_dictionary('zh_corpus.txt', term_index=0, count_index=1)\n",
    "\n",
    "    def _load_custom_dictionary(self, path: str):\n",
    "        \"\"\"从知识图谱导出实体构建专用词典\"\"\"\n",
    "        with open(path, 'r', encoding='utf-8') as f:\n",
    "            for line in f:\n",
    "                entity = line.strip()\n",
    "                # 为每个实体设置较高频率（确保优先匹配）\n",
    "                self.sym_spell.create_dictionary_entry(entity, 1000000)\n",
    "\n",
    "    def correct_query(self, query: str) -> Tuple[str, dict]:\n",
    "        \"\"\"\n",
    "        返回纠正后的查询与纠错元数据\n",
    "        \"\"\"\n",
    "        # 分句处理（防止跨句纠错）\n",
    "        sentences = re.split(r'[。！？]', query)\n",
    "        \n",
    "        corrections = []\n",
    "        for sent in sentences:\n",
    "            if not sent:\n",
    "                continue\n",
    "                \n",
    "            # 获取纠错建议\n",
    "            suggestions = self.sym_spell.lookup_compound(\n",
    "                sent, \n",
    "                max_edit_distance=2,\n",
    "                transfer_casing=True\n",
    "            )\n",
    "            \n",
    "            if suggestions:\n",
    "                corrected = suggestions[0].term\n",
    "                if corrected != sent:\n",
    "                    corrections.append({\n",
    "                        \"original\": sent,\n",
    "                        \"corrected\": corrected,\n",
    "                        \"distance\": suggestions[0].distance\n",
    "                    })\n",
    "                sent = corrected\n",
    "        \n",
    "        return '。'.join(sentences), {\"corrections\": corrections}"
   ]
  },
  {
   "cell_type": "code",
   "execution_count": null,
   "id": "2ed93cd0",
   "metadata": {},
   "outputs": [
    {
     "name": "stdout",
     "output_type": "stream",
     "text": [
      "ChatCompletion(id='9a5b09e7-4aa6-4181-b386-514cb0fe8c3d', choices=[Choice(finish_reason='stop', index=0, logprobs=None, message=ChatCompletionMessage(content='Hello! How can I assist you today?', refusal=None, role='assistant', annotations=None, audio=None, function_call=None, tool_calls=None, reasoning_content='Okay, the user just said \"Hello\". I should respond in a friendly and welcoming manner. Let me keep it simple and open-ended to encourage further conversation. Maybe something like, \"Hello! How can I assist you today?\" That sounds good. It\\'s polite and lets them know I\\'m here to help.'))], created=1747204541, model='deepseek-reasoner', object='chat.completion', service_tier=None, system_fingerprint='fp_5417b77867_prod0425fp8', usage=CompletionUsage(completion_tokens=74, prompt_tokens=12, total_tokens=86, completion_tokens_details=CompletionTokensDetails(accepted_prediction_tokens=None, audio_tokens=None, reasoning_tokens=63, rejected_prediction_tokens=None), prompt_tokens_details=PromptTokensDetails(audio_tokens=None, cached_tokens=0), prompt_cache_hit_tokens=0, prompt_cache_miss_tokens=12))\n"
     ]
    }
   ],
   "source": [
    "# Please install OpenAI SDK first: `pip3 install openai`\n",
    "\n",
    "from openai import OpenAI\n",
    "\n",
    "client = OpenAI(api_key=\"\", base_url=\"https://api.deepseek.com\")\n",
    "\n",
    "response = client.chat.completions.create(\n",
    "    model=\"deepseek-reasoner\",\n",
    "    messages=[\n",
    "        {\"role\": \"system\", \"content\": \"You are a helpful assistant\"},\n",
    "        {\"role\": \"user\", \"content\": \"Hello\"},\n",
    "    ],\n",
    "    stream=False\n",
    ")\n",
    "\n",
    "print(response)"
   ]
  },
  {
   "cell_type": "code",
   "execution_count": 6,
   "id": "695bafca",
   "metadata": {},
   "outputs": [
    {
     "name": "stdout",
     "output_type": "stream",
     "text": [
      "ChatCompletionChunk(id='01c34c5c-c379-485b-81cc-70a4840cbe13', choices=[Choice(delta=ChoiceDelta(content=None, function_call=None, refusal=None, role='assistant', tool_calls=None, reasoning_content=''), finish_reason=None, index=0, logprobs=None)], created=1747204214, model='deepseek-reasoner', object='chat.completion.chunk', service_tier=None, system_fingerprint='fp_5417b77867_prod0425fp8', usage=None)\n",
      "ChatCompletionChunk(id='01c34c5c-c379-485b-81cc-70a4840cbe13', choices=[Choice(delta=ChoiceDelta(content=None, function_call=None, refusal=None, role=None, tool_calls=None, reasoning_content='Okay'), finish_reason=None, index=0, logprobs=None)], created=1747204214, model='deepseek-reasoner', object='chat.completion.chunk', service_tier=None, system_fingerprint='fp_5417b77867_prod0425fp8', usage=None)\n",
      "ChatCompletionChunk(id='01c34c5c-c379-485b-81cc-70a4840cbe13', choices=[Choice(delta=ChoiceDelta(content=None, function_call=None, refusal=None, role=None, tool_calls=None, reasoning_content=','), finish_reason=None, index=0, logprobs=None)], created=1747204214, model='deepseek-reasoner', object='chat.completion.chunk', service_tier=None, system_fingerprint='fp_5417b77867_prod0425fp8', usage=None)\n",
      "ChatCompletionChunk(id='01c34c5c-c379-485b-81cc-70a4840cbe13', choices=[Choice(delta=ChoiceDelta(content=None, function_call=None, refusal=None, role=None, tool_calls=None, reasoning_content=' the'), finish_reason=None, index=0, logprobs=None)], created=1747204214, model='deepseek-reasoner', object='chat.completion.chunk', service_tier=None, system_fingerprint='fp_5417b77867_prod0425fp8', usage=None)\n",
      "ChatCompletionChunk(id='01c34c5c-c379-485b-81cc-70a4840cbe13', choices=[Choice(delta=ChoiceDelta(content=None, function_call=None, refusal=None, role=None, tool_calls=None, reasoning_content=' user'), finish_reason=None, index=0, logprobs=None)], created=1747204214, model='deepseek-reasoner', object='chat.completion.chunk', service_tier=None, system_fingerprint='fp_5417b77867_prod0425fp8', usage=None)\n",
      "ChatCompletionChunk(id='01c34c5c-c379-485b-81cc-70a4840cbe13', choices=[Choice(delta=ChoiceDelta(content=None, function_call=None, refusal=None, role=None, tool_calls=None, reasoning_content=' said'), finish_reason=None, index=0, logprobs=None)], created=1747204214, model='deepseek-reasoner', object='chat.completion.chunk', service_tier=None, system_fingerprint='fp_5417b77867_prod0425fp8', usage=None)\n",
      "ChatCompletionChunk(id='01c34c5c-c379-485b-81cc-70a4840cbe13', choices=[Choice(delta=ChoiceDelta(content=None, function_call=None, refusal=None, role=None, tool_calls=None, reasoning_content=' \"'), finish_reason=None, index=0, logprobs=None)], created=1747204214, model='deepseek-reasoner', object='chat.completion.chunk', service_tier=None, system_fingerprint='fp_5417b77867_prod0425fp8', usage=None)\n",
      "ChatCompletionChunk(id='01c34c5c-c379-485b-81cc-70a4840cbe13', choices=[Choice(delta=ChoiceDelta(content=None, function_call=None, refusal=None, role=None, tool_calls=None, reasoning_content='Hello'), finish_reason=None, index=0, logprobs=None)], created=1747204214, model='deepseek-reasoner', object='chat.completion.chunk', service_tier=None, system_fingerprint='fp_5417b77867_prod0425fp8', usage=None)\n",
      "ChatCompletionChunk(id='01c34c5c-c379-485b-81cc-70a4840cbe13', choices=[Choice(delta=ChoiceDelta(content=None, function_call=None, refusal=None, role=None, tool_calls=None, reasoning_content='\".'), finish_reason=None, index=0, logprobs=None)], created=1747204214, model='deepseek-reasoner', object='chat.completion.chunk', service_tier=None, system_fingerprint='fp_5417b77867_prod0425fp8', usage=None)\n",
      "ChatCompletionChunk(id='01c34c5c-c379-485b-81cc-70a4840cbe13', choices=[Choice(delta=ChoiceDelta(content=None, function_call=None, refusal=None, role=None, tool_calls=None, reasoning_content=' That'), finish_reason=None, index=0, logprobs=None)], created=1747204214, model='deepseek-reasoner', object='chat.completion.chunk', service_tier=None, system_fingerprint='fp_5417b77867_prod0425fp8', usage=None)\n",
      "ChatCompletionChunk(id='01c34c5c-c379-485b-81cc-70a4840cbe13', choices=[Choice(delta=ChoiceDelta(content=None, function_call=None, refusal=None, role=None, tool_calls=None, reasoning_content=\"'s\"), finish_reason=None, index=0, logprobs=None)], created=1747204214, model='deepseek-reasoner', object='chat.completion.chunk', service_tier=None, system_fingerprint='fp_5417b77867_prod0425fp8', usage=None)\n",
      "ChatCompletionChunk(id='01c34c5c-c379-485b-81cc-70a4840cbe13', choices=[Choice(delta=ChoiceDelta(content=None, function_call=None, refusal=None, role=None, tool_calls=None, reasoning_content=' a'), finish_reason=None, index=0, logprobs=None)], created=1747204214, model='deepseek-reasoner', object='chat.completion.chunk', service_tier=None, system_fingerprint='fp_5417b77867_prod0425fp8', usage=None)\n",
      "ChatCompletionChunk(id='01c34c5c-c379-485b-81cc-70a4840cbe13', choices=[Choice(delta=ChoiceDelta(content=None, function_call=None, refusal=None, role=None, tool_calls=None, reasoning_content=' common'), finish_reason=None, index=0, logprobs=None)], created=1747204214, model='deepseek-reasoner', object='chat.completion.chunk', service_tier=None, system_fingerprint='fp_5417b77867_prod0425fp8', usage=None)\n",
      "ChatCompletionChunk(id='01c34c5c-c379-485b-81cc-70a4840cbe13', choices=[Choice(delta=ChoiceDelta(content=None, function_call=None, refusal=None, role=None, tool_calls=None, reasoning_content=' greeting'), finish_reason=None, index=0, logprobs=None)], created=1747204214, model='deepseek-reasoner', object='chat.completion.chunk', service_tier=None, system_fingerprint='fp_5417b77867_prod0425fp8', usage=None)\n",
      "ChatCompletionChunk(id='01c34c5c-c379-485b-81cc-70a4840cbe13', choices=[Choice(delta=ChoiceDelta(content=None, function_call=None, refusal=None, role=None, tool_calls=None, reasoning_content='.'), finish_reason=None, index=0, logprobs=None)], created=1747204214, model='deepseek-reasoner', object='chat.completion.chunk', service_tier=None, system_fingerprint='fp_5417b77867_prod0425fp8', usage=None)\n",
      "ChatCompletionChunk(id='01c34c5c-c379-485b-81cc-70a4840cbe13', choices=[Choice(delta=ChoiceDelta(content=None, function_call=None, refusal=None, role=None, tool_calls=None, reasoning_content=' I'), finish_reason=None, index=0, logprobs=None)], created=1747204214, model='deepseek-reasoner', object='chat.completion.chunk', service_tier=None, system_fingerprint='fp_5417b77867_prod0425fp8', usage=None)\n",
      "ChatCompletionChunk(id='01c34c5c-c379-485b-81cc-70a4840cbe13', choices=[Choice(delta=ChoiceDelta(content=None, function_call=None, refusal=None, role=None, tool_calls=None, reasoning_content=' should'), finish_reason=None, index=0, logprobs=None)], created=1747204214, model='deepseek-reasoner', object='chat.completion.chunk', service_tier=None, system_fingerprint='fp_5417b77867_prod0425fp8', usage=None)\n",
      "ChatCompletionChunk(id='01c34c5c-c379-485b-81cc-70a4840cbe13', choices=[Choice(delta=ChoiceDelta(content=None, function_call=None, refusal=None, role=None, tool_calls=None, reasoning_content=' respond'), finish_reason=None, index=0, logprobs=None)], created=1747204214, model='deepseek-reasoner', object='chat.completion.chunk', service_tier=None, system_fingerprint='fp_5417b77867_prod0425fp8', usage=None)\n",
      "ChatCompletionChunk(id='01c34c5c-c379-485b-81cc-70a4840cbe13', choices=[Choice(delta=ChoiceDelta(content=None, function_call=None, refusal=None, role=None, tool_calls=None, reasoning_content=' politely'), finish_reason=None, index=0, logprobs=None)], created=1747204214, model='deepseek-reasoner', object='chat.completion.chunk', service_tier=None, system_fingerprint='fp_5417b77867_prod0425fp8', usage=None)\n",
      "ChatCompletionChunk(id='01c34c5c-c379-485b-81cc-70a4840cbe13', choices=[Choice(delta=ChoiceDelta(content=None, function_call=None, refusal=None, role=None, tool_calls=None, reasoning_content='.'), finish_reason=None, index=0, logprobs=None)], created=1747204214, model='deepseek-reasoner', object='chat.completion.chunk', service_tier=None, system_fingerprint='fp_5417b77867_prod0425fp8', usage=None)\n",
      "ChatCompletionChunk(id='01c34c5c-c379-485b-81cc-70a4840cbe13', choices=[Choice(delta=ChoiceDelta(content=None, function_call=None, refusal=None, role=None, tool_calls=None, reasoning_content=' Maybe'), finish_reason=None, index=0, logprobs=None)], created=1747204214, model='deepseek-reasoner', object='chat.completion.chunk', service_tier=None, system_fingerprint='fp_5417b77867_prod0425fp8', usage=None)\n",
      "ChatCompletionChunk(id='01c34c5c-c379-485b-81cc-70a4840cbe13', choices=[Choice(delta=ChoiceDelta(content=None, function_call=None, refusal=None, role=None, tool_calls=None, reasoning_content=' \"'), finish_reason=None, index=0, logprobs=None)], created=1747204214, model='deepseek-reasoner', object='chat.completion.chunk', service_tier=None, system_fingerprint='fp_5417b77867_prod0425fp8', usage=None)\n",
      "ChatCompletionChunk(id='01c34c5c-c379-485b-81cc-70a4840cbe13', choices=[Choice(delta=ChoiceDelta(content=None, function_call=None, refusal=None, role=None, tool_calls=None, reasoning_content='Hello'), finish_reason=None, index=0, logprobs=None)], created=1747204214, model='deepseek-reasoner', object='chat.completion.chunk', service_tier=None, system_fingerprint='fp_5417b77867_prod0425fp8', usage=None)\n",
      "ChatCompletionChunk(id='01c34c5c-c379-485b-81cc-70a4840cbe13', choices=[Choice(delta=ChoiceDelta(content=None, function_call=None, refusal=None, role=None, tool_calls=None, reasoning_content='!'), finish_reason=None, index=0, logprobs=None)], created=1747204214, model='deepseek-reasoner', object='chat.completion.chunk', service_tier=None, system_fingerprint='fp_5417b77867_prod0425fp8', usage=None)\n",
      "ChatCompletionChunk(id='01c34c5c-c379-485b-81cc-70a4840cbe13', choices=[Choice(delta=ChoiceDelta(content=None, function_call=None, refusal=None, role=None, tool_calls=None, reasoning_content=' How'), finish_reason=None, index=0, logprobs=None)], created=1747204214, model='deepseek-reasoner', object='chat.completion.chunk', service_tier=None, system_fingerprint='fp_5417b77867_prod0425fp8', usage=None)\n",
      "ChatCompletionChunk(id='01c34c5c-c379-485b-81cc-70a4840cbe13', choices=[Choice(delta=ChoiceDelta(content=None, function_call=None, refusal=None, role=None, tool_calls=None, reasoning_content=' can'), finish_reason=None, index=0, logprobs=None)], created=1747204214, model='deepseek-reasoner', object='chat.completion.chunk', service_tier=None, system_fingerprint='fp_5417b77867_prod0425fp8', usage=None)\n",
      "ChatCompletionChunk(id='01c34c5c-c379-485b-81cc-70a4840cbe13', choices=[Choice(delta=ChoiceDelta(content=None, function_call=None, refusal=None, role=None, tool_calls=None, reasoning_content=' I'), finish_reason=None, index=0, logprobs=None)], created=1747204214, model='deepseek-reasoner', object='chat.completion.chunk', service_tier=None, system_fingerprint='fp_5417b77867_prod0425fp8', usage=None)\n",
      "ChatCompletionChunk(id='01c34c5c-c379-485b-81cc-70a4840cbe13', choices=[Choice(delta=ChoiceDelta(content=None, function_call=None, refusal=None, role=None, tool_calls=None, reasoning_content=' assist'), finish_reason=None, index=0, logprobs=None)], created=1747204214, model='deepseek-reasoner', object='chat.completion.chunk', service_tier=None, system_fingerprint='fp_5417b77867_prod0425fp8', usage=None)\n",
      "ChatCompletionChunk(id='01c34c5c-c379-485b-81cc-70a4840cbe13', choices=[Choice(delta=ChoiceDelta(content=None, function_call=None, refusal=None, role=None, tool_calls=None, reasoning_content=' you'), finish_reason=None, index=0, logprobs=None)], created=1747204214, model='deepseek-reasoner', object='chat.completion.chunk', service_tier=None, system_fingerprint='fp_5417b77867_prod0425fp8', usage=None)\n",
      "ChatCompletionChunk(id='01c34c5c-c379-485b-81cc-70a4840cbe13', choices=[Choice(delta=ChoiceDelta(content=None, function_call=None, refusal=None, role=None, tool_calls=None, reasoning_content=' today'), finish_reason=None, index=0, logprobs=None)], created=1747204214, model='deepseek-reasoner', object='chat.completion.chunk', service_tier=None, system_fingerprint='fp_5417b77867_prod0425fp8', usage=None)\n",
      "ChatCompletionChunk(id='01c34c5c-c379-485b-81cc-70a4840cbe13', choices=[Choice(delta=ChoiceDelta(content=None, function_call=None, refusal=None, role=None, tool_calls=None, reasoning_content='?\"'), finish_reason=None, index=0, logprobs=None)], created=1747204214, model='deepseek-reasoner', object='chat.completion.chunk', service_tier=None, system_fingerprint='fp_5417b77867_prod0425fp8', usage=None)\n",
      "ChatCompletionChunk(id='01c34c5c-c379-485b-81cc-70a4840cbe13', choices=[Choice(delta=ChoiceDelta(content=None, function_call=None, refusal=None, role=None, tool_calls=None, reasoning_content=' That'), finish_reason=None, index=0, logprobs=None)], created=1747204214, model='deepseek-reasoner', object='chat.completion.chunk', service_tier=None, system_fingerprint='fp_5417b77867_prod0425fp8', usage=None)\n",
      "ChatCompletionChunk(id='01c34c5c-c379-485b-81cc-70a4840cbe13', choices=[Choice(delta=ChoiceDelta(content=None, function_call=None, refusal=None, role=None, tool_calls=None, reasoning_content=' sounds'), finish_reason=None, index=0, logprobs=None)], created=1747204214, model='deepseek-reasoner', object='chat.completion.chunk', service_tier=None, system_fingerprint='fp_5417b77867_prod0425fp8', usage=None)\n",
      "ChatCompletionChunk(id='01c34c5c-c379-485b-81cc-70a4840cbe13', choices=[Choice(delta=ChoiceDelta(content=None, function_call=None, refusal=None, role=None, tool_calls=None, reasoning_content=' friendly'), finish_reason=None, index=0, logprobs=None)], created=1747204214, model='deepseek-reasoner', object='chat.completion.chunk', service_tier=None, system_fingerprint='fp_5417b77867_prod0425fp8', usage=None)\n",
      "ChatCompletionChunk(id='01c34c5c-c379-485b-81cc-70a4840cbe13', choices=[Choice(delta=ChoiceDelta(content=None, function_call=None, refusal=None, role=None, tool_calls=None, reasoning_content=' and'), finish_reason=None, index=0, logprobs=None)], created=1747204214, model='deepseek-reasoner', object='chat.completion.chunk', service_tier=None, system_fingerprint='fp_5417b77867_prod0425fp8', usage=None)\n",
      "ChatCompletionChunk(id='01c34c5c-c379-485b-81cc-70a4840cbe13', choices=[Choice(delta=ChoiceDelta(content=None, function_call=None, refusal=None, role=None, tool_calls=None, reasoning_content=' opens'), finish_reason=None, index=0, logprobs=None)], created=1747204214, model='deepseek-reasoner', object='chat.completion.chunk', service_tier=None, system_fingerprint='fp_5417b77867_prod0425fp8', usage=None)\n",
      "ChatCompletionChunk(id='01c34c5c-c379-485b-81cc-70a4840cbe13', choices=[Choice(delta=ChoiceDelta(content=None, function_call=None, refusal=None, role=None, tool_calls=None, reasoning_content=' the'), finish_reason=None, index=0, logprobs=None)], created=1747204214, model='deepseek-reasoner', object='chat.completion.chunk', service_tier=None, system_fingerprint='fp_5417b77867_prod0425fp8', usage=None)\n",
      "ChatCompletionChunk(id='01c34c5c-c379-485b-81cc-70a4840cbe13', choices=[Choice(delta=ChoiceDelta(content=None, function_call=None, refusal=None, role=None, tool_calls=None, reasoning_content=' conversation'), finish_reason=None, index=0, logprobs=None)], created=1747204214, model='deepseek-reasoner', object='chat.completion.chunk', service_tier=None, system_fingerprint='fp_5417b77867_prod0425fp8', usage=None)\n",
      "ChatCompletionChunk(id='01c34c5c-c379-485b-81cc-70a4840cbe13', choices=[Choice(delta=ChoiceDelta(content=None, function_call=None, refusal=None, role=None, tool_calls=None, reasoning_content=' for'), finish_reason=None, index=0, logprobs=None)], created=1747204214, model='deepseek-reasoner', object='chat.completion.chunk', service_tier=None, system_fingerprint='fp_5417b77867_prod0425fp8', usage=None)\n",
      "ChatCompletionChunk(id='01c34c5c-c379-485b-81cc-70a4840cbe13', choices=[Choice(delta=ChoiceDelta(content=None, function_call=None, refusal=None, role=None, tool_calls=None, reasoning_content=' them'), finish_reason=None, index=0, logprobs=None)], created=1747204214, model='deepseek-reasoner', object='chat.completion.chunk', service_tier=None, system_fingerprint='fp_5417b77867_prod0425fp8', usage=None)\n",
      "ChatCompletionChunk(id='01c34c5c-c379-485b-81cc-70a4840cbe13', choices=[Choice(delta=ChoiceDelta(content=None, function_call=None, refusal=None, role=None, tool_calls=None, reasoning_content=' to'), finish_reason=None, index=0, logprobs=None)], created=1747204214, model='deepseek-reasoner', object='chat.completion.chunk', service_tier=None, system_fingerprint='fp_5417b77867_prod0425fp8', usage=None)\n",
      "ChatCompletionChunk(id='01c34c5c-c379-485b-81cc-70a4840cbe13', choices=[Choice(delta=ChoiceDelta(content=None, function_call=None, refusal=None, role=None, tool_calls=None, reasoning_content=' ask'), finish_reason=None, index=0, logprobs=None)], created=1747204214, model='deepseek-reasoner', object='chat.completion.chunk', service_tier=None, system_fingerprint='fp_5417b77867_prod0425fp8', usage=None)\n",
      "ChatCompletionChunk(id='01c34c5c-c379-485b-81cc-70a4840cbe13', choices=[Choice(delta=ChoiceDelta(content=None, function_call=None, refusal=None, role=None, tool_calls=None, reasoning_content=' for'), finish_reason=None, index=0, logprobs=None)], created=1747204214, model='deepseek-reasoner', object='chat.completion.chunk', service_tier=None, system_fingerprint='fp_5417b77867_prod0425fp8', usage=None)\n",
      "ChatCompletionChunk(id='01c34c5c-c379-485b-81cc-70a4840cbe13', choices=[Choice(delta=ChoiceDelta(content=None, function_call=None, refusal=None, role=None, tool_calls=None, reasoning_content=' help'), finish_reason=None, index=0, logprobs=None)], created=1747204214, model='deepseek-reasoner', object='chat.completion.chunk', service_tier=None, system_fingerprint='fp_5417b77867_prod0425fp8', usage=None)\n",
      "ChatCompletionChunk(id='01c34c5c-c379-485b-81cc-70a4840cbe13', choices=[Choice(delta=ChoiceDelta(content=None, function_call=None, refusal=None, role=None, tool_calls=None, reasoning_content='.'), finish_reason=None, index=0, logprobs=None)], created=1747204214, model='deepseek-reasoner', object='chat.completion.chunk', service_tier=None, system_fingerprint='fp_5417b77867_prod0425fp8', usage=None)\n",
      "ChatCompletionChunk(id='01c34c5c-c379-485b-81cc-70a4840cbe13', choices=[Choice(delta=ChoiceDelta(content='Hello', function_call=None, refusal=None, role=None, tool_calls=None, reasoning_content=None), finish_reason=None, index=0, logprobs=None)], created=1747204214, model='deepseek-reasoner', object='chat.completion.chunk', service_tier=None, system_fingerprint='fp_5417b77867_prod0425fp8', usage=None)\n",
      "ChatCompletionChunk(id='01c34c5c-c379-485b-81cc-70a4840cbe13', choices=[Choice(delta=ChoiceDelta(content='!', function_call=None, refusal=None, role=None, tool_calls=None, reasoning_content=None), finish_reason=None, index=0, logprobs=None)], created=1747204214, model='deepseek-reasoner', object='chat.completion.chunk', service_tier=None, system_fingerprint='fp_5417b77867_prod0425fp8', usage=None)\n",
      "ChatCompletionChunk(id='01c34c5c-c379-485b-81cc-70a4840cbe13', choices=[Choice(delta=ChoiceDelta(content=' How', function_call=None, refusal=None, role=None, tool_calls=None, reasoning_content=None), finish_reason=None, index=0, logprobs=None)], created=1747204214, model='deepseek-reasoner', object='chat.completion.chunk', service_tier=None, system_fingerprint='fp_5417b77867_prod0425fp8', usage=None)\n",
      "ChatCompletionChunk(id='01c34c5c-c379-485b-81cc-70a4840cbe13', choices=[Choice(delta=ChoiceDelta(content=' can', function_call=None, refusal=None, role=None, tool_calls=None, reasoning_content=None), finish_reason=None, index=0, logprobs=None)], created=1747204214, model='deepseek-reasoner', object='chat.completion.chunk', service_tier=None, system_fingerprint='fp_5417b77867_prod0425fp8', usage=None)\n",
      "ChatCompletionChunk(id='01c34c5c-c379-485b-81cc-70a4840cbe13', choices=[Choice(delta=ChoiceDelta(content=' I', function_call=None, refusal=None, role=None, tool_calls=None, reasoning_content=None), finish_reason=None, index=0, logprobs=None)], created=1747204214, model='deepseek-reasoner', object='chat.completion.chunk', service_tier=None, system_fingerprint='fp_5417b77867_prod0425fp8', usage=None)\n",
      "ChatCompletionChunk(id='01c34c5c-c379-485b-81cc-70a4840cbe13', choices=[Choice(delta=ChoiceDelta(content=' assist', function_call=None, refusal=None, role=None, tool_calls=None, reasoning_content=None), finish_reason=None, index=0, logprobs=None)], created=1747204214, model='deepseek-reasoner', object='chat.completion.chunk', service_tier=None, system_fingerprint='fp_5417b77867_prod0425fp8', usage=None)\n",
      "ChatCompletionChunk(id='01c34c5c-c379-485b-81cc-70a4840cbe13', choices=[Choice(delta=ChoiceDelta(content=' you', function_call=None, refusal=None, role=None, tool_calls=None, reasoning_content=None), finish_reason=None, index=0, logprobs=None)], created=1747204214, model='deepseek-reasoner', object='chat.completion.chunk', service_tier=None, system_fingerprint='fp_5417b77867_prod0425fp8', usage=None)\n",
      "ChatCompletionChunk(id='01c34c5c-c379-485b-81cc-70a4840cbe13', choices=[Choice(delta=ChoiceDelta(content=' today', function_call=None, refusal=None, role=None, tool_calls=None, reasoning_content=None), finish_reason=None, index=0, logprobs=None)], created=1747204214, model='deepseek-reasoner', object='chat.completion.chunk', service_tier=None, system_fingerprint='fp_5417b77867_prod0425fp8', usage=None)\n",
      "ChatCompletionChunk(id='01c34c5c-c379-485b-81cc-70a4840cbe13', choices=[Choice(delta=ChoiceDelta(content='?', function_call=None, refusal=None, role=None, tool_calls=None, reasoning_content=None), finish_reason=None, index=0, logprobs=None)], created=1747204214, model='deepseek-reasoner', object='chat.completion.chunk', service_tier=None, system_fingerprint='fp_5417b77867_prod0425fp8', usage=None)\n",
      "ChatCompletionChunk(id='01c34c5c-c379-485b-81cc-70a4840cbe13', choices=[Choice(delta=ChoiceDelta(content='', function_call=None, refusal=None, role=None, tool_calls=None, reasoning_content=None), finish_reason='stop', index=0, logprobs=None)], created=1747204214, model='deepseek-reasoner', object='chat.completion.chunk', service_tier=None, system_fingerprint='fp_5417b77867_prod0425fp8', usage=CompletionUsage(completion_tokens=55, prompt_tokens=12, total_tokens=67, completion_tokens_details=CompletionTokensDetails(accepted_prediction_tokens=None, audio_tokens=None, reasoning_tokens=44, rejected_prediction_tokens=None), prompt_tokens_details=PromptTokensDetails(audio_tokens=None, cached_tokens=0), prompt_cache_hit_tokens=0, prompt_cache_miss_tokens=12))\n"
     ]
    }
   ],
   "source": [
    "for item in response:\n",
    "    print(item)"
   ]
  },
  {
   "cell_type": "code",
   "execution_count": 9,
   "id": "c8f1a123",
   "metadata": {},
   "outputs": [
    {
     "name": "stdout",
     "output_type": "stream",
     "text": [
      "5522\n",
      "5398\n"
     ]
    }
   ],
   "source": [
    "with open('../agents/data/entities.txt', 'r', encoding='utf-8') as f:\n",
    "    entities = f.read().split('\\n')\n",
    "\n",
    "st = set()\n",
    "for entity in entities:\n",
    "    if entity:\n",
    "        li = entity.split(',')\n",
    "        st.add((li[0], li[1]))\n",
    "print(len(st))\n",
    "\n",
    "with open('../agents/data/pinyin_entities.txt', 'r', encoding='utf-8') as f:\n",
    "    entities = f.read().split('\\n')\n",
    "\n",
    "st1 = set()\n",
    "for entity in entities:\n",
    "    if entity:\n",
    "        li = entity.split(',')\n",
    "        st1.add((li[0], li[1]))\n",
    "print(len(st1))"
   ]
  },
  {
   "cell_type": "code",
   "execution_count": null,
   "id": "68bc751c",
   "metadata": {},
   "outputs": [],
   "source": [
    "with open('../agents/data/entities.txt', 'r', encoding='utf-8') as f:\n",
    "    entities = f.read().split('\\n')\n",
    "\n"
   ]
  }
 ],
 "metadata": {
  "kernelspec": {
   "display_name": "langchain",
   "language": "python",
   "name": "python3"
  },
  "language_info": {
   "codemirror_mode": {
    "name": "ipython",
    "version": 3
   },
   "file_extension": ".py",
   "mimetype": "text/x-python",
   "name": "python",
   "nbconvert_exporter": "python",
   "pygments_lexer": "ipython3",
   "version": "3.12.8"
  }
 },
 "nbformat": 4,
 "nbformat_minor": 5
}
